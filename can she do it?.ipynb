{
 "cells": [
  {
   "cell_type": "markdown",
   "id": "a48dfb00",
   "metadata": {},
   "source": [
    "## Gender Bias  Classification Modeling as a Foundation for Headline Objectivity"
   ]
  },
  {
   "cell_type": "markdown",
   "id": "6d619d81",
   "metadata": {},
   "source": [
    "Madeline F. Birch | November 2023 | Flatiron School Data Science Program | Final Capstone Project"
   ]
  },
  {
   "cell_type": "markdown",
   "id": "8c268667",
   "metadata": {},
   "source": [
    "# Contents\n",
    "1. [Project Overview](#Project_Overview)\n",
    "2. [The Dataset](#The_Dataset)\n",
    "3. [Exploratory Data Analysis](#EDA)\n",
    "4. [Feature Engineering (and more EDA)](#Feature_Engineering)\n",
    "5. [Preprocessing](#Preprocessing)\n",
    "6. [Train Test Split](#Train_Test_Split)\n",
    "\n",
    "\n"
   ]
  },
  {
   "cell_type": "markdown",
   "id": "bfc320e2",
   "metadata": {},
   "source": [
    "# Project Overview<a id='Project_Overview'></a>"
   ]
  },
  {
   "cell_type": "markdown",
   "id": "6cc7d59c",
   "metadata": {},
   "source": [
    "In an era where information shapes perspectives, the media plays a pivotal role in influencing societal narratives. Understanding the subtle nuances and potential biases embedded in headlines is crucial, and this project aims to shed light on the degree of bias present in headlines. Focusing on data classification through machine learning, the project seeks to predict headlines into three classes: No Bias, Low Bias, and High Bias. The objective is not to scrutinize sensationalism or analyze sentiment polarity but rather to leverage textual and numerical features to predict the bias level accurately."
   ]
  },
  {
   "cell_type": "markdown",
   "id": "4ecb88ff",
   "metadata": {},
   "source": [
    "<img src=\"Images/pbs_logo.png\" alt=\"PBS Logo\" width=\"400\"/>"
   ]
  },
  {
   "cell_type": "markdown",
   "id": "eded698b",
   "metadata": {},
   "source": [
    "### Our Stakeholder: PBS News\n",
    "The significance of this project lies in its potential impact on journalism's objectivity, particularly for PBS News, a revered American news source known for its impartiality and lack of apparent agenda. Publicly funded by 15%, the entity continuously faces accusations of general bias and [threats of defunding from various actors](https://www.nytimes.com/2011/02/28/business/media/28cpb.html). \n",
    "\n",
    "By adopting insights gained from our efforts, PBS News can *silence these threats* and *secure its value* as a trusted source for objective, unbiased headlines.\n",
    "\n",
    "### Our Vision: Gender Bias in Headlines as a Framework\n",
    "We chose to focus on gender bias as a focus for this project because it is undeniably one of the most prevalent forms of bias in published news content. A 2021 Topic Modeling [study](https://www.frontiersin.org/articles/10.3389/frai.2021.664737/full) found women are unfortunately but not unexpectedly *mentioned* \"more frequently in topics related to lifestyle, healthcare, and crimes and sexual assault.\" Another 2021 Natural Language Processing [study](https://journals.plos.org/plosone/article?id=10.1371/journal.pone.0245533) concluded, \"although\n",
    "we see a certain tokenism in having female *voices* present in the news, their voices are drowned\n",
    "out by the overwhelming number of times that we hear from men, often from just a handful of\n",
    "men.\" There's no denying that gender bias is present in news article content, both in references toward and quotations credited to women, but what about the content of *headlines?* Couldn't headlines about women be biased, too?\n",
    "\n",
    "At the heart of this initiative is the recognition of headlines as powerful agents that shape our perceptions. These succinct phrases captivate our attention and mold our subconscious understanding of entire articles. The urgency to prove and maintain neutrality, especially on a platform as eminent as PBS, underscores the relevance of our undertaking.\n",
    "\n",
    "While our primary focus is on demonstrating which ML algorithms are most adept at detecting gender bias in headlines, this project could serve a framework for ongoing assessments of headlines across diverse bias types, including political, racial, LGBTQ+, socioeconomic class and beyond. The broader vision is to contribute to a media landscape characterized by transparency, objectivity, and accountability, fostering a public discourse grounded in fair and unbiased reporting."
   ]
  },
  {
   "cell_type": "markdown",
   "id": "ee8c6ecb",
   "metadata": {},
   "source": [
    "# The Dataset<a id='The_Dataset'></a>\n",
    "\n",
    "The dataset utilized in this project originates from a comprehensive collection of data scraped for [\"When Women Make Headlines,\"](https://pudding.cool/2022/02/women-in-headlines/) a visual essay published by [*The Pudding*](https://pudding.cool/) in June 2022. Released by [Amber Thomas](https://data.world/amberthomas) on [data.world](https://data.world/the-pudding/women-in-headlines), this dataset is one of few open source datasets we could find that investigates gender bias specifically in headlines. It encompasses a diverse array of headlines about women, each annotated with corresponding bias scores. Bias scores were calculated following the methodology outlined in [\"Proposed Taxonomy for Gender Bias in Text; A Filtering Methodology for the Gender Generalization Subtype.\"](https://aclanthology.org/W19-3802.pdf)\n",
    "\n",
    "The dataset's origin in a visual essay adds an element of real-world applicability, grounding the project in the practical considerations of media consumption and perception. Its richness lies in its amalgamation of both textual numerical features associated with each headline. The text data provides the linguistic context of the headlines, while numerical features offer additional dimensions for analysis. This holistic approach enables the development of a machine learning model that can discern patterns beyond linguistic constructs, contributing to a nuanced understanding of what contributes to bias. \n",
    "\n",
    "### Our Working File\n",
    "The dataset contains a multitude of `.csv` files; for the sake of simplicity, we will be working exclusively with `headlines.csv` and engineering additional numerical features to bolster our models.\n",
    "\n",
    "### Our Target\n",
    "Our target variable will be `bias`."
   ]
  },
  {
   "cell_type": "markdown",
   "id": "ecf822c3",
   "metadata": {},
   "source": [
    "# Exploratory Data Analysis<a id='EDA'></a>"
   ]
  },
  {
   "cell_type": "code",
   "execution_count": 1,
   "id": "df1cba69",
   "metadata": {},
   "outputs": [],
   "source": [
    "import pandas as pd\n",
    "import numpy as np\n",
    "import matplotlib.pyplot as plt\n",
    "import seaborn as sns\n",
    "import nltk\n",
    "from nltk.sentiment import SentimentIntensityAnalyzer\n",
    "import datetime\n",
    "from nltk.corpus import stopwords\n",
    "import gensim\n",
    "import gensim.downloader\n",
    "from gensim.utils import simple_preprocess"
   ]
  },
  {
   "cell_type": "code",
   "execution_count": 2,
   "id": "73da8daf",
   "metadata": {},
   "outputs": [
    {
     "data": {
      "text/html": [
       "<div>\n",
       "<style scoped>\n",
       "    .dataframe tbody tr th:only-of-type {\n",
       "        vertical-align: middle;\n",
       "    }\n",
       "\n",
       "    .dataframe tbody tr th {\n",
       "        vertical-align: top;\n",
       "    }\n",
       "\n",
       "    .dataframe thead th {\n",
       "        text-align: right;\n",
       "    }\n",
       "</style>\n",
       "<table border=\"1\" class=\"dataframe\">\n",
       "  <thead>\n",
       "    <tr style=\"text-align: right;\">\n",
       "      <th></th>\n",
       "      <th>index</th>\n",
       "      <th>Unnamed: 0</th>\n",
       "      <th>url</th>\n",
       "      <th>headline_no_site</th>\n",
       "      <th>site</th>\n",
       "      <th>time</th>\n",
       "      <th>country</th>\n",
       "      <th>bias</th>\n",
       "    </tr>\n",
       "  </thead>\n",
       "  <tbody>\n",
       "    <tr>\n",
       "      <th>0</th>\n",
       "      <td>0</td>\n",
       "      <td>0</td>\n",
       "      <td>https://www.iol.co.za/entertainment/movies-the...</td>\n",
       "      <td>'Lady Bird' buzzes through young sexuality</td>\n",
       "      <td>iol.co.za</td>\n",
       "      <td>2018-02-23 08:00:00+00:00</td>\n",
       "      <td>South Africa</td>\n",
       "      <td>0.000000</td>\n",
       "    </tr>\n",
       "    <tr>\n",
       "      <th>1</th>\n",
       "      <td>1</td>\n",
       "      <td>1</td>\n",
       "      <td>https://www.iol.co.za/entertainment/music/the-...</td>\n",
       "      <td>The shadowy urban POP super Starrah who loves ...</td>\n",
       "      <td>iol.co.za</td>\n",
       "      <td>2018-01-10 08:00:00+00:00</td>\n",
       "      <td>South Africa</td>\n",
       "      <td>0.166667</td>\n",
       "    </tr>\n",
       "    <tr>\n",
       "      <th>2</th>\n",
       "      <td>2</td>\n",
       "      <td>2</td>\n",
       "      <td>https://www.iol.co.za/entertainment/celebrity-...</td>\n",
       "      <td>Rihanna pens heartfelt tribute to her mom in b...</td>\n",
       "      <td>iol.co.za</td>\n",
       "      <td>2018-02-21 08:00:00+00:00</td>\n",
       "      <td>South Africa</td>\n",
       "      <td>0.333333</td>\n",
       "    </tr>\n",
       "    <tr>\n",
       "      <th>3</th>\n",
       "      <td>3</td>\n",
       "      <td>3</td>\n",
       "      <td>https://www.iol.co.za/news/south-africa/wester...</td>\n",
       "      <td>Shock as woman accused of killing teen girlfri...</td>\n",
       "      <td>iol.co.za</td>\n",
       "      <td>2018-02-27 08:00:00+00:00</td>\n",
       "      <td>South Africa</td>\n",
       "      <td>0.333333</td>\n",
       "    </tr>\n",
       "    <tr>\n",
       "      <th>4</th>\n",
       "      <td>4</td>\n",
       "      <td>4</td>\n",
       "      <td>https://www.iol.co.za/business-report/careers/...</td>\n",
       "      <td>TOP STORY: Meet South Africa's new first lady ...</td>\n",
       "      <td>iol.co.za</td>\n",
       "      <td>2018-02-15 08:00:00+00:00</td>\n",
       "      <td>South Africa</td>\n",
       "      <td>0.166667</td>\n",
       "    </tr>\n",
       "  </tbody>\n",
       "</table>\n",
       "</div>"
      ],
      "text/plain": [
       "   index  Unnamed: 0                                                url  \\\n",
       "0      0           0  https://www.iol.co.za/entertainment/movies-the...   \n",
       "1      1           1  https://www.iol.co.za/entertainment/music/the-...   \n",
       "2      2           2  https://www.iol.co.za/entertainment/celebrity-...   \n",
       "3      3           3  https://www.iol.co.za/news/south-africa/wester...   \n",
       "4      4           4  https://www.iol.co.za/business-report/careers/...   \n",
       "\n",
       "                                    headline_no_site       site  \\\n",
       "0         'Lady Bird' buzzes through young sexuality  iol.co.za   \n",
       "1  The shadowy urban POP super Starrah who loves ...  iol.co.za   \n",
       "2  Rihanna pens heartfelt tribute to her mom in b...  iol.co.za   \n",
       "3  Shock as woman accused of killing teen girlfri...  iol.co.za   \n",
       "4  TOP STORY: Meet South Africa's new first lady ...  iol.co.za   \n",
       "\n",
       "                        time       country      bias  \n",
       "0  2018-02-23 08:00:00+00:00  South Africa  0.000000  \n",
       "1  2018-01-10 08:00:00+00:00  South Africa  0.166667  \n",
       "2  2018-02-21 08:00:00+00:00  South Africa  0.333333  \n",
       "3  2018-02-27 08:00:00+00:00  South Africa  0.333333  \n",
       "4  2018-02-15 08:00:00+00:00  South Africa  0.166667  "
      ]
     },
     "execution_count": 2,
     "metadata": {},
     "output_type": "execute_result"
    }
   ],
   "source": [
    "# Loading 'headlines.csv' into a Pandas DataFrame\n",
    "headlines = pd.read_csv('Data/headlines.csv')\n",
    "\n",
    "# Showing first 5 rows of the DataFrame\n",
    "headlines.head()"
   ]
  },
  {
   "cell_type": "code",
   "execution_count": 3,
   "id": "81633c0b",
   "metadata": {},
   "outputs": [],
   "source": [
    "# Dropping irrelevant columns 'url', 'Unnamed: 0', and 'index'\n",
    "headlines = headlines.drop(columns=['url', 'Unnamed: 0', 'index'])"
   ]
  },
  {
   "cell_type": "code",
   "execution_count": 4,
   "id": "de8ecbf4",
   "metadata": {},
   "outputs": [
    {
     "data": {
      "text/plain": [
       "(382139, 5)"
      ]
     },
     "execution_count": 4,
     "metadata": {},
     "output_type": "execute_result"
    }
   ],
   "source": [
    "# Getting the shape of our DataFrame\n",
    "headlines.shape"
   ]
  },
  {
   "cell_type": "code",
   "execution_count": 5,
   "id": "8d589691",
   "metadata": {},
   "outputs": [
    {
     "data": {
      "text/html": [
       "<div>\n",
       "<style scoped>\n",
       "    .dataframe tbody tr th:only-of-type {\n",
       "        vertical-align: middle;\n",
       "    }\n",
       "\n",
       "    .dataframe tbody tr th {\n",
       "        vertical-align: top;\n",
       "    }\n",
       "\n",
       "    .dataframe thead th {\n",
       "        text-align: right;\n",
       "    }\n",
       "</style>\n",
       "<table border=\"1\" class=\"dataframe\">\n",
       "  <thead>\n",
       "    <tr style=\"text-align: right;\">\n",
       "      <th></th>\n",
       "      <th>bias</th>\n",
       "    </tr>\n",
       "  </thead>\n",
       "  <tbody>\n",
       "    <tr>\n",
       "      <th>count</th>\n",
       "      <td>382139.000000</td>\n",
       "    </tr>\n",
       "    <tr>\n",
       "      <th>mean</th>\n",
       "      <td>0.171057</td>\n",
       "    </tr>\n",
       "    <tr>\n",
       "      <th>std</th>\n",
       "      <td>0.101210</td>\n",
       "    </tr>\n",
       "    <tr>\n",
       "      <th>min</th>\n",
       "      <td>0.000000</td>\n",
       "    </tr>\n",
       "    <tr>\n",
       "      <th>25%</th>\n",
       "      <td>0.166667</td>\n",
       "    </tr>\n",
       "    <tr>\n",
       "      <th>50%</th>\n",
       "      <td>0.166667</td>\n",
       "    </tr>\n",
       "    <tr>\n",
       "      <th>75%</th>\n",
       "      <td>0.166667</td>\n",
       "    </tr>\n",
       "    <tr>\n",
       "      <th>max</th>\n",
       "      <td>1.000000</td>\n",
       "    </tr>\n",
       "  </tbody>\n",
       "</table>\n",
       "</div>"
      ],
      "text/plain": [
       "                bias\n",
       "count  382139.000000\n",
       "mean        0.171057\n",
       "std         0.101210\n",
       "min         0.000000\n",
       "25%         0.166667\n",
       "50%         0.166667\n",
       "75%         0.166667\n",
       "max         1.000000"
      ]
     },
     "execution_count": 5,
     "metadata": {},
     "output_type": "execute_result"
    }
   ],
   "source": [
    "# Getting primary statistics\n",
    "headlines.describe()"
   ]
  },
  {
   "cell_type": "code",
   "execution_count": 6,
   "id": "3396716f",
   "metadata": {},
   "outputs": [
    {
     "data": {
      "text/plain": [
       "bias\n",
       "0.166667    265271\n",
       "0.000000     57227\n",
       "0.333333     52629\n",
       "0.500000      6408\n",
       "0.666667       568\n",
       "0.833333        35\n",
       "1.000000         1\n",
       "Name: count, dtype: int64"
      ]
     },
     "execution_count": 6,
     "metadata": {},
     "output_type": "execute_result"
    }
   ],
   "source": [
    "# Getting value counts for bias feature\n",
    "headlines['bias'].value_counts()"
   ]
  },
  {
   "cell_type": "code",
   "execution_count": 7,
   "id": "0b27a863",
   "metadata": {},
   "outputs": [
    {
     "data": {
      "image/png": "[encoded data removed]",
      "text/plain": [
       "<Figure size 1000x600 with 1 Axes>"
      ]
     },
     "metadata": {},
     "output_type": "display_data"
    }
   ],
   "source": [
    "# Plotting bias distribution\n",
    "\n",
    "# Setting Seaborn style\n",
    "sns.set(style=\"whitegrid\")\n",
    "\n",
    "# Plotting histogram of 'bias'\n",
    "plt.figure(figsize=(10, 6))\n",
    "sns.histplot(headlines['bias'], bins=20, kde=True, color='blue')\n",
    "\n",
    "# Styling the plot\n",
    "plt.title('Distribution of Bias Scores', fontsize=16)\n",
    "plt.xlabel('Bias Score', fontsize=12)\n",
    "plt.ylabel('Frequency', fontsize=12)\n",
    "plt.xticks(fontsize=10)\n",
    "plt.yticks(fontsize=10)\n",
    "plt.grid(axis='y', linestyle='--', alpha=0.7)\n",
    "\n",
    "# Showing the plot\n",
    "plt.tight_layout()\n",
    "plt.show()"
   ]
  },
  {
   "cell_type": "markdown",
   "id": "af736f14",
   "metadata": {},
   "source": [
    "# Feature Engineering (and more EDA) <a id='Feature_Engineering'></a>"
   ]
  },
  {
   "cell_type": "code",
   "execution_count": 8,
   "id": "7fdf7ece",
   "metadata": {},
   "outputs": [],
   "source": [
    "# Creating feature 'sentiment_polarity'- scale of -1 to 1\n",
    "\n",
    "# Creating a sentiment analyzer\n",
    "sid = SentimentIntensityAnalyzer()\n",
    "\n",
    "# Applying the sentiment analyzer to each headline and storing the compound score - this takes a while to run\n",
    "headlines['sentiment_polarity'] = headlines['headline_no_site'].apply(lambda x: sid.polarity_scores(x)['compound'])"
   ]
  },
  {
   "cell_type": "code",
   "execution_count": 9,
   "id": "4629100b",
   "metadata": {},
   "outputs": [
    {
     "data": {
      "text/plain": [
       "sentiment_polarity\n",
       " 0.0000    127683\n",
       "-0.2960      6871\n",
       " 0.4019      5231\n",
       "-0.4767      4682\n",
       "-0.3182      4423\n",
       "            ...  \n",
       " 0.6075         1\n",
       "-0.4690         1\n",
       " 0.5991         1\n",
       " 0.7854         1\n",
       " 0.4388         1\n",
       "Name: count, Length: 4977, dtype: int64"
      ]
     },
     "execution_count": 9,
     "metadata": {},
     "output_type": "execute_result"
    }
   ],
   "source": [
    "# Getting distribution of sentiment_polarity\n",
    "headlines['sentiment_polarity'].value_counts()"
   ]
  },
  {
   "cell_type": "code",
   "execution_count": 10,
   "id": "baafbdb0",
   "metadata": {},
   "outputs": [
    {
     "name": "stdout",
     "output_type": "stream",
     "text": [
      "-0.979\n",
      "0.9682\n"
     ]
    }
   ],
   "source": [
    "# Printing min and max values for sentiment polarity\n",
    "print(headlines['sentiment_polarity'].min())\n",
    "print(headlines['sentiment_polarity'].max())"
   ]
  },
  {
   "cell_type": "code",
   "execution_count": 11,
   "id": "9cb41688",
   "metadata": {},
   "outputs": [
    {
     "data": {
      "image/png": "[encoded data removed]",
      "text/plain": [
       "<Figure size 1000x600 with 1 Axes>"
      ]
     },
     "metadata": {},
     "output_type": "display_data"
    }
   ],
   "source": [
    "# Plotting dist of sentiment polarity\n",
    "\n",
    "# Setting Seaborn style\n",
    "sns.set(style=\"whitegrid\")\n",
    "\n",
    "# Plotting histogram of 'sentiment_polarity'\n",
    "plt.figure(figsize=(10, 6))\n",
    "sns.histplot(headlines['sentiment_polarity'], bins=20, kde=True, color='green')\n",
    "\n",
    "# Styling the plot\n",
    "plt.title('Distribution of Sentiment Polarity Scores', fontsize=16)\n",
    "plt.xlabel('Sentiment Polarity Score', fontsize=12)\n",
    "plt.ylabel('Frequency', fontsize=12)\n",
    "plt.xticks(fontsize=10)\n",
    "plt.yticks(fontsize=10)\n",
    "plt.grid(axis='y', linestyle='--', alpha=0.7)\n",
    "\n",
    "# Showing the plot\n",
    "plt.tight_layout()\n",
    "plt.show()"
   ]
  },
  {
   "cell_type": "code",
   "execution_count": 12,
   "id": "723c068b",
   "metadata": {},
   "outputs": [],
   "source": [
    "# Engineering 'Day of the Week' and 'Month' Features\n",
    "headlines['Day_of_Week'] = pd.to_datetime(headlines['time']).dt.day_name()\n",
    "headlines['Month'] = pd.to_datetime(headlines['time']).dt.month\n",
    "\n",
    "# Engineering 'Hour of Dat' feature\n",
    "headlines['Hour_of_Day'] = pd.to_datetime(headlines['time']).dt.hour\n",
    "\n",
    "# Converting 'time' column to datetime format\n",
    "headlines['time'] = pd.to_datetime(headlines['time'], errors='coerce')\n",
    "\n",
    "# Extracting the year and creating a new 'Publication Year' feature\n",
    "headlines['Publication_Year'] = headlines['time'].dt.year"
   ]
  },
  {
   "cell_type": "code",
   "execution_count": 13,
   "id": "a40f5fe8",
   "metadata": {},
   "outputs": [],
   "source": [
    "# Dropping time column\n",
    "headlines = headlines.drop(columns=['time'])"
   ]
  },
  {
   "cell_type": "code",
   "execution_count": 14,
   "id": "d337d2dd",
   "metadata": {},
   "outputs": [],
   "source": [
    "# Creating word count feature\n",
    "headlines['Word_Count'] = headlines['headline_no_site'].apply(lambda x: len(x.split()))\n",
    "\n",
    "# Creating text length feature\n",
    "headlines['Text_Length'] = headlines['headline_no_site'].apply(len)"
   ]
  },
  {
   "cell_type": "code",
   "execution_count": 15,
   "id": "5682be8c",
   "metadata": {},
   "outputs": [
    {
     "data": {
      "text/html": [
       "<div>\n",
       "<style scoped>\n",
       "    .dataframe tbody tr th:only-of-type {\n",
       "        vertical-align: middle;\n",
       "    }\n",
       "\n",
       "    .dataframe tbody tr th {\n",
       "        vertical-align: top;\n",
       "    }\n",
       "\n",
       "    .dataframe thead th {\n",
       "        text-align: right;\n",
       "    }\n",
       "</style>\n",
       "<table border=\"1\" class=\"dataframe\">\n",
       "  <thead>\n",
       "    <tr style=\"text-align: right;\">\n",
       "      <th></th>\n",
       "      <th>headline_no_site</th>\n",
       "      <th>site</th>\n",
       "      <th>country</th>\n",
       "      <th>bias</th>\n",
       "      <th>sentiment_polarity</th>\n",
       "      <th>Day_of_Week</th>\n",
       "      <th>Month</th>\n",
       "      <th>Hour_of_Day</th>\n",
       "      <th>Publication_Year</th>\n",
       "      <th>Word_Count</th>\n",
       "      <th>Text_Length</th>\n",
       "    </tr>\n",
       "  </thead>\n",
       "  <tbody>\n",
       "    <tr>\n",
       "      <th>0</th>\n",
       "      <td>'Lady Bird' buzzes through young sexuality</td>\n",
       "      <td>iol.co.za</td>\n",
       "      <td>South Africa</td>\n",
       "      <td>0.000000</td>\n",
       "      <td>0.0000</td>\n",
       "      <td>Friday</td>\n",
       "      <td>2</td>\n",
       "      <td>8</td>\n",
       "      <td>2018</td>\n",
       "      <td>6</td>\n",
       "      <td>42</td>\n",
       "    </tr>\n",
       "    <tr>\n",
       "      <th>1</th>\n",
       "      <td>The shadowy urban POP super Starrah who loves ...</td>\n",
       "      <td>iol.co.za</td>\n",
       "      <td>South Africa</td>\n",
       "      <td>0.166667</td>\n",
       "      <td>0.8225</td>\n",
       "      <td>Wednesday</td>\n",
       "      <td>1</td>\n",
       "      <td>8</td>\n",
       "      <td>2018</td>\n",
       "      <td>10</td>\n",
       "      <td>57</td>\n",
       "    </tr>\n",
       "    <tr>\n",
       "      <th>2</th>\n",
       "      <td>Rihanna pens heartfelt tribute to her mom in b...</td>\n",
       "      <td>iol.co.za</td>\n",
       "      <td>South Africa</td>\n",
       "      <td>0.333333</td>\n",
       "      <td>0.5423</td>\n",
       "      <td>Wednesday</td>\n",
       "      <td>2</td>\n",
       "      <td>8</td>\n",
       "      <td>2018</td>\n",
       "      <td>10</td>\n",
       "      <td>58</td>\n",
       "    </tr>\n",
       "    <tr>\n",
       "      <th>3</th>\n",
       "      <td>Shock as woman accused of killing teen girlfri...</td>\n",
       "      <td>iol.co.za</td>\n",
       "      <td>South Africa</td>\n",
       "      <td>0.333333</td>\n",
       "      <td>-0.7184</td>\n",
       "      <td>Tuesday</td>\n",
       "      <td>2</td>\n",
       "      <td>8</td>\n",
       "      <td>2018</td>\n",
       "      <td>11</td>\n",
       "      <td>65</td>\n",
       "    </tr>\n",
       "    <tr>\n",
       "      <th>4</th>\n",
       "      <td>TOP STORY: Meet South Africa's new first lady ...</td>\n",
       "      <td>iol.co.za</td>\n",
       "      <td>South Africa</td>\n",
       "      <td>0.166667</td>\n",
       "      <td>0.3680</td>\n",
       "      <td>Thursday</td>\n",
       "      <td>2</td>\n",
       "      <td>8</td>\n",
       "      <td>2018</td>\n",
       "      <td>10</td>\n",
       "      <td>62</td>\n",
       "    </tr>\n",
       "  </tbody>\n",
       "</table>\n",
       "</div>"
      ],
      "text/plain": [
       "                                    headline_no_site       site       country  \\\n",
       "0         'Lady Bird' buzzes through young sexuality  iol.co.za  South Africa   \n",
       "1  The shadowy urban POP super Starrah who loves ...  iol.co.za  South Africa   \n",
       "2  Rihanna pens heartfelt tribute to her mom in b...  iol.co.za  South Africa   \n",
       "3  Shock as woman accused of killing teen girlfri...  iol.co.za  South Africa   \n",
       "4  TOP STORY: Meet South Africa's new first lady ...  iol.co.za  South Africa   \n",
       "\n",
       "       bias  sentiment_polarity Day_of_Week  Month  Hour_of_Day  \\\n",
       "0  0.000000              0.0000      Friday      2            8   \n",
       "1  0.166667              0.8225   Wednesday      1            8   \n",
       "2  0.333333              0.5423   Wednesday      2            8   \n",
       "3  0.333333             -0.7184     Tuesday      2            8   \n",
       "4  0.166667              0.3680    Thursday      2            8   \n",
       "\n",
       "   Publication_Year  Word_Count  Text_Length  \n",
       "0              2018           6           42  \n",
       "1              2018          10           57  \n",
       "2              2018          10           58  \n",
       "3              2018          11           65  \n",
       "4              2018          10           62  "
      ]
     },
     "execution_count": 15,
     "metadata": {},
     "output_type": "execute_result"
    }
   ],
   "source": [
    "# Inspecting new head\n",
    "headlines.head()"
   ]
  },
  {
   "cell_type": "code",
   "execution_count": 16,
   "id": "b664c10c",
   "metadata": {},
   "outputs": [
    {
     "data": {
      "text/plain": [
       "site\n",
       "dailymail.co.uk    8219\n",
       "telegraph.co.uk    7596\n",
       "abcnews.go.com     6305\n",
       "indiatimes.com     6269\n",
       "mirror.co.uk       6207\n",
       "                   ... \n",
       "news.google.com       4\n",
       "makeuseof.com         3\n",
       "howtogeek.com         3\n",
       "pcadvisor.co.uk       1\n",
       "dailysun.co.za        1\n",
       "Name: count, Length: 186, dtype: int64"
      ]
     },
     "execution_count": 16,
     "metadata": {},
     "output_type": "execute_result"
    }
   ],
   "source": [
    "# Getting value counts for site\n",
    "headlines['site'].value_counts()"
   ]
  },
  {
   "cell_type": "code",
   "execution_count": 17,
   "id": "4a9035b6",
   "metadata": {},
   "outputs": [],
   "source": [
    "# Setting a threshold for news sites with at least 5000 headlines\n",
    "min_headlines_threshold = 5000\n",
    "top_sites = headlines['site'].value_counts()\n",
    "top_sites = top_sites[top_sites >= min_headlines_threshold].index\n",
    "\n",
    "# Creating a new dataframe with only the sites with at least 5000 headlines\n",
    "headlines_filtered = headlines[headlines['site'].isin(top_sites)].copy()"
   ]
  },
  {
   "cell_type": "code",
   "execution_count": 18,
   "id": "9f66a77c",
   "metadata": {},
   "outputs": [
    {
     "data": {
      "text/plain": [
       "country\n",
       "UK       42593\n",
       "USA      39050\n",
       "India    36306\n",
       "Name: count, dtype: int64"
      ]
     },
     "execution_count": 18,
     "metadata": {},
     "output_type": "execute_result"
    }
   ],
   "source": [
    "# Getting value counts for country\n",
    "headlines_filtered['country'].value_counts()"
   ]
  },
  {
   "cell_type": "code",
   "execution_count": 19,
   "id": "0ca54258",
   "metadata": {},
   "outputs": [
    {
     "name": "stderr",
     "output_type": "stream",
     "text": [
      "/var/folders/xl/6sfvtvk54y1982txcc62tyqw0000gn/T/ipykernel_8981/1489788177.py:3: FutureWarning: \n",
      "\n",
      "Passing `palette` without assigning `hue` is deprecated and will be removed in v0.14.0. Assign the `x` variable to `hue` and set `legend=False` for the same effect.\n",
      "\n",
      "  sns.countplot(x='country', data=headlines_filtered, palette='viridis')\n"
     ]
    },
    {
     "data": {
      "image/png": "[encoded data removed]",
      "text/plain": [
       "<Figure size 800x600 with 1 Axes>"
      ]
     },
     "metadata": {},
     "output_type": "display_data"
    }
   ],
   "source": [
    "# Getting distribution of countries\n",
    "plt.figure(figsize=(8, 6))\n",
    "sns.countplot(x='country', data=headlines_filtered, palette='viridis')\n",
    "plt.title('Distribution of Countries')\n",
    "plt.xlabel('Country')\n",
    "plt.ylabel('Number of Headlines')\n",
    "plt.tight_layout()\n",
    "\n",
    "# Showing the plot\n",
    "plt.show()"
   ]
  },
  {
   "cell_type": "code",
   "execution_count": 20,
   "id": "ca947e27",
   "metadata": {},
   "outputs": [
    {
     "name": "stdout",
     "output_type": "stream",
     "text": [
      "country\n",
      "USA    39050\n",
      "Name: count, dtype: int64\n"
     ]
    }
   ],
   "source": [
    "# Filtering out all data for 'UK' and 'India' so that we stay in the US\n",
    "headlines_filtered = headlines_filtered[headlines_filtered['country'].isin(['USA'])]\n",
    "\n",
    "# Verify the changes\n",
    "print(headlines_filtered['country'].value_counts())"
   ]
  },
  {
   "cell_type": "code",
   "execution_count": 21,
   "id": "3bf77503",
   "metadata": {},
   "outputs": [
    {
     "data": {
      "text/plain": [
       "(39050, 11)"
      ]
     },
     "execution_count": 21,
     "metadata": {},
     "output_type": "execute_result"
    }
   ],
   "source": [
    "# Getting shape of new DataFrame\n",
    "headlines_filtered.shape"
   ]
  },
  {
   "cell_type": "code",
   "execution_count": 22,
   "id": "25548478",
   "metadata": {},
   "outputs": [
    {
     "data": {
      "image/png": "[encoded data removed]",
      "text/plain": [
       "<Figure size 800x800 with 1 Axes>"
      ]
     },
     "metadata": {},
     "output_type": "display_data"
    }
   ],
   "source": [
    "# Getting top 10 sites with most headlines\n",
    "top_10_sites = headlines_filtered['site'].value_counts().nlargest(10)\n",
    "\n",
    "# Creating a pie chart\n",
    "plt.figure(figsize=(8, 8))\n",
    "plt.pie(top_10_sites, labels=top_10_sites.index, autopct='%1.1f%%', colors=sns.color_palette('viridis'), startangle=90)\n",
    "plt.title('Top 10 News Sources Distribution')\n",
    "plt.tight_layout()\n",
    "\n",
    "# Showing the plot\n",
    "plt.show()"
   ]
  },
  {
   "cell_type": "code",
   "execution_count": 23,
   "id": "da48a90b",
   "metadata": {},
   "outputs": [
    {
     "data": {
      "image/png": "[encoded data removed]",
      "text/plain": [
       "<Figure size 1000x600 with 1 Axes>"
      ]
     },
     "metadata": {},
     "output_type": "display_data"
    }
   ],
   "source": [
    "# Set the style for seaborn\n",
    "sns.set(style=\"whitegrid\")\n",
    "\n",
    "# Plotting the distribution\n",
    "plt.figure(figsize=(10, 6))\n",
    "sns.histplot(headlines_filtered['Word_Count'], bins=30, color='skyblue', kde=False)\n",
    "plt.title('Distribution of Word Count in Headlines')\n",
    "plt.xlabel('Word_Count')\n",
    "plt.ylabel('Frequency')\n",
    "\n",
    "# Show the plot\n",
    "plt.show()"
   ]
  },
  {
   "cell_type": "code",
   "execution_count": 24,
   "id": "3ea66658",
   "metadata": {},
   "outputs": [
    {
     "data": {
      "image/png": "[encoded data removed]",
      "text/plain": [
       "<Figure size 1000x600 with 1 Axes>"
      ]
     },
     "metadata": {},
     "output_type": "display_data"
    }
   ],
   "source": [
    "# Set the style for seaborn\n",
    "sns.set(style=\"whitegrid\")\n",
    "\n",
    "# Plotting the distribution\n",
    "plt.figure(figsize=(10, 6))\n",
    "sns.histplot(headlines_filtered['Text_Length'], bins=30, color='skyblue', kde=False)\n",
    "plt.title('Distribution of Text Length in Headlines')\n",
    "plt.xlabel('Text_Length')\n",
    "plt.ylabel('Frequency')\n",
    "\n",
    "# Show the plot\n",
    "plt.show()"
   ]
  },
  {
   "cell_type": "code",
   "execution_count": 25,
   "id": "e0435881",
   "metadata": {},
   "outputs": [
    {
     "data": {
      "image/png": "[encoded data removed]",
      "text/plain": [
       "<Figure size 1000x600 with 1 Axes>"
      ]
     },
     "metadata": {},
     "output_type": "display_data"
    }
   ],
   "source": [
    "# Set the style for seaborn\n",
    "sns.set(style=\"whitegrid\")\n",
    "\n",
    "# Plotting the distribution\n",
    "plt.figure(figsize=(10, 6))\n",
    "sns.histplot(headlines_filtered['Hour_of_Day'], bins=30, color='skyblue', kde=False)\n",
    "plt.title('Distribution of Hour of Day')\n",
    "plt.xlabel('Hour of Day')\n",
    "plt.ylabel('Frequency')\n",
    "\n",
    "# Show the plot\n",
    "plt.show()"
   ]
  },
  {
   "cell_type": "code",
   "execution_count": 26,
   "id": "47428eba",
   "metadata": {},
   "outputs": [
    {
     "data": {
      "image/png": "[encoded data removed]",
      "text/plain": [
       "<Figure size 1000x600 with 1 Axes>"
      ]
     },
     "metadata": {},
     "output_type": "display_data"
    }
   ],
   "source": [
    "# Set the style for seaborn\n",
    "sns.set(style=\"whitegrid\")\n",
    "\n",
    "# Plotting the distribution\n",
    "plt.figure(figsize=(10, 6))\n",
    "sns.histplot(headlines_filtered['Day_of_Week'], bins=30, color='skyblue', kde=False)\n",
    "plt.title('Distribution of Day of Week')\n",
    "plt.xlabel('Day of Week')\n",
    "plt.ylabel('Frequency')\n",
    "\n",
    "# Show the plot\n",
    "plt.show()"
   ]
  },
  {
   "cell_type": "code",
   "execution_count": 27,
   "id": "f0126651",
   "metadata": {},
   "outputs": [
    {
     "data": {
      "text/plain": [
       "bias\n",
       "0.166667    26343\n",
       "0.333333     6576\n",
       "0.000000     5041\n",
       "0.500000      982\n",
       "0.666667      104\n",
       "0.833333        4\n",
       "Name: count, dtype: int64"
      ]
     },
     "execution_count": 27,
     "metadata": {},
     "output_type": "execute_result"
    }
   ],
   "source": [
    "# Getting distribution of bias in headlines_filtered\n",
    "headlines_filtered['bias'].value_counts()"
   ]
  },
  {
   "cell_type": "code",
   "execution_count": 28,
   "id": "28df6fa8",
   "metadata": {},
   "outputs": [],
   "source": [
    "# Setting values to drop\n",
    "values_to_drop = [0.666667, 0.833333]\n",
    "\n",
    "# Use boolean indexing to drop rows with specified values in 'bias' column\n",
    "headlines_filtered = headlines_filtered[~headlines_filtered['bias'].isin(values_to_drop)]"
   ]
  },
  {
   "cell_type": "code",
   "execution_count": 29,
   "id": "21256bb5",
   "metadata": {},
   "outputs": [],
   "source": [
    "# Defining conditions\n",
    "conditions = [\n",
    "    headlines_filtered['bias'].between(0.000000, 0.000000, inclusive='both'),\n",
    "    headlines_filtered['bias'].between(0.1, 0.2, inclusive='both'),\n",
    "    headlines_filtered['bias'].between(0.3, 0.5, inclusive='both'),\n",
    "]\n",
    "\n",
    "# Setting category labels\n",
    "labels = ['No Bias', 'Low Bias', 'High Bias']\n",
    "\n",
    "# Applying conditions\n",
    "headlines_filtered['bias_category'] = np.select(conditions, labels, default=None)"
   ]
  },
  {
   "cell_type": "code",
   "execution_count": 30,
   "id": "bb60ff94",
   "metadata": {},
   "outputs": [
    {
     "data": {
      "text/plain": [
       "array(['High Bias', 'Low Bias', 'No Bias', None], dtype=object)"
      ]
     },
     "execution_count": 30,
     "metadata": {},
     "output_type": "execute_result"
    }
   ],
   "source": [
    "# Getting unique bias category values\n",
    "headlines_filtered['bias_category'].unique()"
   ]
  },
  {
   "cell_type": "code",
   "execution_count": 31,
   "id": "57207de7",
   "metadata": {},
   "outputs": [
    {
     "data": {
      "text/plain": [
       "108"
      ]
     },
     "execution_count": 31,
     "metadata": {},
     "output_type": "execute_result"
    }
   ],
   "source": [
    "headlines_filtered['bias_category'].isnull().sum()"
   ]
  },
  {
   "cell_type": "code",
   "execution_count": 32,
   "id": "bffe6104",
   "metadata": {},
   "outputs": [],
   "source": [
    "headlines_filtered = headlines_filtered.dropna()"
   ]
  },
  {
   "cell_type": "code",
   "execution_count": null,
   "id": "0ef9add5",
   "metadata": {},
   "outputs": [],
   "source": [
    "headlines_filtered.isnull().sum()"
   ]
  },
  {
   "cell_type": "code",
   "execution_count": null,
   "id": "73e617fc",
   "metadata": {},
   "outputs": [],
   "source": [
    "headlines_filtered['bias_category'].value_counts()"
   ]
  },
  {
   "cell_type": "code",
   "execution_count": null,
   "id": "1b1105e9",
   "metadata": {},
   "outputs": [],
   "source": [
    "headlines_filtered.shape"
   ]
  },
  {
   "cell_type": "code",
   "execution_count": null,
   "id": "909692dc",
   "metadata": {},
   "outputs": [],
   "source": [
    "# Dropping original bias column\n",
    "headlines_filtered = headlines_filtered.drop(columns=['bias'])"
   ]
  },
  {
   "cell_type": "code",
   "execution_count": null,
   "id": "bf7ffa3c",
   "metadata": {},
   "outputs": [],
   "source": [
    "# Plotting the distribution of bias_category by Publication_Year\n",
    "\n",
    "# Setting the style for seaborn\n",
    "sns.set(style=\"whitegrid\")\n",
    "\n",
    "# Setting fig size, plotting feature interaction, setting axes titles and labels\n",
    "plt.figure(figsize=(12, 8))\n",
    "sns.countplot(x=\"Publication_Year\", hue=\"bias_category\", data=headlines_filtered)\n",
    "plt.title('Distribution of Bias Category by Publication_Year')\n",
    "plt.xlabel('Publication Year')\n",
    "plt.ylabel('Count')\n",
    "\n",
    "# Showing the plot\n",
    "plt.show()"
   ]
  },
  {
   "cell_type": "code",
   "execution_count": null,
   "id": "0233f9a0",
   "metadata": {},
   "outputs": [],
   "source": [
    "# Setting a Seaborn style\n",
    "sns.set(style=\"whitegrid\")\n",
    "\n",
    "# Setting fig size, creating plot of feature interaction\n",
    "plt.figure(figsize=(14, 8))\n",
    "\n",
    "# Creating a violin plot with strip plot overlay\n",
    "violin = sns.violinplot(x='bias_category', y='sentiment_polarity', data=headlines_filtered, inner='quartile', palette='viridis')\n",
    "strip = sns.stripplot(x='bias_category', y='sentiment_polarity', data=headlines_filtered, color='black', size=2, jitter=True)\n",
    "\n",
    "# Styling the plot\n",
    "plt.title('Distribution of Sentiment Polarity for Different Bias Categories', fontsize=16)\n",
    "plt.xlabel('Bias Category', fontsize=12)\n",
    "plt.ylabel('Sentiment Polarity', fontsize=12)\n",
    "plt.xticks(fontsize=10)\n",
    "plt.yticks(fontsize=10)\n",
    "plt.grid(axis='y', linestyle='--', alpha=0.7)\n",
    "\n",
    "# Adding a legend\n",
    "plt.legend(title='Bias Category', bbox_to_anchor=(1.05, 1), loc='upper left')\n",
    "\n",
    "# Showing the plot\n",
    "plt.tight_layout()\n",
    "plt.show()\n"
   ]
  },
  {
   "cell_type": "code",
   "execution_count": null,
   "id": "97525588",
   "metadata": {},
   "outputs": [],
   "source": [
    "# Renaming the 'headlines_no_site' column to 'headlines'\n",
    "headlines_filtered.rename(columns={'headline_no_site': 'headlines'}, inplace=True)\n",
    "\n",
    "headlines_filtered['headlines'].head()"
   ]
  },
  {
   "cell_type": "code",
   "execution_count": null,
   "id": "51811036",
   "metadata": {},
   "outputs": [],
   "source": [
    "from nltk.tokenize import word_tokenize\n",
    "from nltk.stem import WordNetLemmatizer\n",
    "import re\n",
    "from nltk.corpus import stopwords\n",
    "import gensim\n",
    "import gensim.downloader\n",
    "from gensim.utils import simple_preprocess"
   ]
  },
  {
   "cell_type": "code",
   "execution_count": null,
   "id": "86c1aca1",
   "metadata": {},
   "outputs": [],
   "source": [
    "# Tokenize, Clean, and Lemmatize Text\n",
    "\n",
    "# Tokenizing the headline text\n",
    "headlines_filtered['tokenized_text'] = headlines_filtered['headlines'].apply(word_tokenize)\n",
    "\n",
    "# Removing non-alphabetic characters, handle empty strings, and extra spaces\n",
    "headlines_filtered['cleaned_text'] = headlines_filtered['tokenized_text'].apply(lambda tokens: [re.sub(r'[^a-zA-Z0-9]', '', token).strip() for token in tokens if re.sub(r'[^a-zA-Z0-9]', '', token).strip()])\n",
    "\n",
    "# Converting to lowercase\n",
    "headlines_filtered['cleaned_text'] = headlines_filtered['cleaned_text'].apply(lambda tokens: [token.lower() for token in tokens])\n",
    "\n",
    "# Lemmatization - this takes a minute or two to run\n",
    "lemmatizer = WordNetLemmatizer()\n",
    "headlines_filtered['lemmatized_text'] = headlines_filtered['cleaned_text'].apply(lambda tokens: [lemmatizer.lemmatize(token) for token in tokens])"
   ]
  },
  {
   "cell_type": "code",
   "execution_count": null,
   "id": "b8a0ea2a",
   "metadata": {},
   "outputs": [],
   "source": [
    "# Storing a copy of headlines_filtered_encoded as lemmatized_df\n",
    "lemmatized_df = headlines_filtered.copy()"
   ]
  },
  {
   "cell_type": "code",
   "execution_count": null,
   "id": "cbe25a1c",
   "metadata": {},
   "outputs": [],
   "source": [
    "# Dropping the 'headlines' column from lemmatized_df\n",
    "lemmatized_df.drop('headlines', axis=1, inplace=True)\n",
    "\n",
    "# Displaying the first row of lemmatized_df after dropping the column\n",
    "lemmatized_df.head(1)"
   ]
  },
  {
   "cell_type": "code",
   "execution_count": null,
   "id": "68f1eaa6",
   "metadata": {},
   "outputs": [],
   "source": [
    "# Getting stop words\n",
    "stop_words = set(stopwords.words('english'))\n",
    "\n",
    "# Creating no stopwords feature, removing stop words from the lemmatized_text column\n",
    "lemmatized_df['lemmatized_text_no_stopwords'] = lemmatized_df['lemmatized_text'].apply(lambda tokens: [token for token in tokens if token not in stop_words])"
   ]
  },
  {
   "cell_type": "code",
   "execution_count": null,
   "id": "1d563693",
   "metadata": {},
   "outputs": [],
   "source": [
    "# Inspecting head of lemmatized_text_no_stopwords feature\n",
    "lemmatized_df['lemmatized_text_no_stopwords'].head()"
   ]
  },
  {
   "cell_type": "code",
   "execution_count": null,
   "id": "516c067a",
   "metadata": {},
   "outputs": [],
   "source": [
    "# Storing a copy of lemmatized_df as df_to_vectorize\n",
    "df_to_vectorize = lemmatized_df.copy()"
   ]
  },
  {
   "cell_type": "code",
   "execution_count": null,
   "id": "8543b9ae",
   "metadata": {},
   "outputs": [],
   "source": [
    "# Setting list of columns to drop\n",
    "columns_to_drop = ['tokenized_text', 'cleaned_text', 'lemmatized_text']\n",
    "\n",
    "# Dropping the specified columns\n",
    "df_to_vectorize.drop(columns=columns_to_drop, inplace=True)"
   ]
  },
  {
   "cell_type": "code",
   "execution_count": null,
   "id": "1441fb4c",
   "metadata": {},
   "outputs": [],
   "source": [
    "# Inspecting head \n",
    "df_to_vectorize.head(1)"
   ]
  },
  {
   "cell_type": "code",
   "execution_count": null,
   "id": "701a3072",
   "metadata": {},
   "outputs": [],
   "source": [
    "# Printing available models in gensim-data\n",
    "print(list(gensim.downloader.info()['models'].keys()))"
   ]
  },
  {
   "cell_type": "code",
   "execution_count": null,
   "id": "8c971605",
   "metadata": {},
   "outputs": [],
   "source": [
    "# Downloading a pre-trained word embedding model and assigning it to 'model'- this will take a while! \n",
    "model = gensim.downloader.load('fasttext-wiki-news-subwords-300')"
   ]
  },
  {
   "cell_type": "code",
   "execution_count": null,
   "id": "9d55b725",
   "metadata": {},
   "outputs": [],
   "source": [
    "# Defining function\n",
    "def text2vec(text):\n",
    "    \n",
    "    tokenized = text\n",
    "    \n",
    "    word_embeddings = [np.zeros(300)]\n",
    "    for word in tokenized:\n",
    "        if word in model:\n",
    "            vector = model[word]\n",
    "        else:\n",
    "            vector = np.zeros(300)\n",
    "            \n",
    "        word_embeddings.append(vector)\n",
    "    \n",
    "    text_embedding = np.stack(word_embeddings).mean(axis=0)\n",
    "    \n",
    "    return text_embedding"
   ]
  },
  {
   "cell_type": "code",
   "execution_count": null,
   "id": "7a797f1a",
   "metadata": {},
   "outputs": [],
   "source": [
    "# Applying the function over the lemmatized text column and assigning the results to new columns\n",
    "df_to_vectorize['headline_vectors'] = df_to_vectorize['lemmatized_text_no_stopwords'].apply(lambda x: text2vec(x))"
   ]
  },
  {
   "cell_type": "code",
   "execution_count": null,
   "id": "ce11d109",
   "metadata": {},
   "outputs": [],
   "source": [
    "# Inspecting headline vectors\n",
    "df_to_vectorize['headline_vectors'].head()"
   ]
  },
  {
   "cell_type": "code",
   "execution_count": null,
   "id": "6d1b4468",
   "metadata": {},
   "outputs": [],
   "source": [
    "# Making copy of df_to_vectorize\n",
    "final_df = df_to_vectorize.copy()"
   ]
  },
  {
   "cell_type": "code",
   "execution_count": null,
   "id": "c7a48cfe",
   "metadata": {},
   "outputs": [],
   "source": [
    "# Dropping the 'lemmatized_text_no_stopwords' column\n",
    "final_df = final_df.drop('lemmatized_text_no_stopwords', axis=1)"
   ]
  },
  {
   "cell_type": "code",
   "execution_count": null,
   "id": "80844931",
   "metadata": {},
   "outputs": [],
   "source": [
    "# Checking headlines vectors of first row in filtered dataset\n",
    "final_df['headline_vectors'][9207]"
   ]
  },
  {
   "cell_type": "code",
   "execution_count": null,
   "id": "1b2ae919",
   "metadata": {},
   "outputs": [],
   "source": [
    "# Checking final_df for null values\n",
    "final_df.isnull().sum()"
   ]
  },
  {
   "cell_type": "code",
   "execution_count": null,
   "id": "66ffa8be",
   "metadata": {},
   "outputs": [],
   "source": [
    "from sklearn.model_selection import train_test_split"
   ]
  },
  {
   "cell_type": "code",
   "execution_count": null,
   "id": "f6521dce",
   "metadata": {},
   "outputs": [],
   "source": [
    "final_df.columns"
   ]
  },
  {
   "cell_type": "code",
   "execution_count": null,
   "id": "a54d6b4d",
   "metadata": {},
   "outputs": [],
   "source": [
    "final_df.dtypes"
   ]
  },
  {
   "cell_type": "code",
   "execution_count": null,
   "id": "70df0665",
   "metadata": {},
   "outputs": [],
   "source": [
    "final_df['site'].unique()"
   ]
  },
  {
   "cell_type": "markdown",
   "id": "5bfffc8c",
   "metadata": {},
   "source": [
    "# ONE HOT ENCODE SITE AND INCLUDE IN MODEL"
   ]
  },
  {
   "cell_type": "code",
   "execution_count": null,
   "id": "beff98d0",
   "metadata": {},
   "outputs": [],
   "source": [
    "# Setting X and y variables\n",
    "X = final_df[['headline_vectors', 'sentiment_polarity']]\n",
    "y = final_df['bias_category']\n",
    "\n",
    "# Splitting the data\n",
    "X_train, X_test, y_train, y_test = train_test_split(X, y, test_size=0.2, random_state=42)\n",
    "\n",
    "print(\"X_train shape:\", X_train.shape)\n",
    "print(\"y_train shape:\", y_train.shape)\n",
    "print(\"X_test shape:\", X_test.shape)\n",
    "print(\"y_test shape:\", y_test.shape)"
   ]
  },
  {
   "cell_type": "code",
   "execution_count": null,
   "id": "a252e24a",
   "metadata": {},
   "outputs": [],
   "source": [
    "# Ensuring there are no NaN values in y_train\n",
    "y_train.unique()"
   ]
  },
  {
   "cell_type": "code",
   "execution_count": null,
   "id": "bde1c98e",
   "metadata": {},
   "outputs": [],
   "source": [
    "# Ensuring there are no NaN values in y_test\n",
    "y_test.unique()"
   ]
  },
  {
   "cell_type": "code",
   "execution_count": null,
   "id": "0304d9bc",
   "metadata": {},
   "outputs": [],
   "source": [
    "# Converting X_train vectors to arrays\n",
    "X_train_array = np.array(X_train['headline_vectors'].tolist())\n",
    "\n",
    "# Converting X_test vectors to arrays\n",
    "X_test_array = np.array(X_test['headline_vectors'].tolist())"
   ]
  },
  {
   "cell_type": "code",
   "execution_count": null,
   "id": "a643adf0",
   "metadata": {},
   "outputs": [],
   "source": [
    "#Import SMOTE\n",
    "from imblearn.over_sampling import SMOTE"
   ]
  },
  {
   "cell_type": "code",
   "execution_count": null,
   "id": "52e1da01",
   "metadata": {},
   "outputs": [],
   "source": [
    "#Initialize SMOTE\n",
    "smote = SMOTE(random_state=42)\n",
    "\n",
    "#Apply SMOTE to the training set\n",
    "X_train_smote, y_train_smote = smote.fit_resample(X_train_array, y_train)"
   ]
  },
  {
   "cell_type": "code",
   "execution_count": null,
   "id": "2409439b",
   "metadata": {},
   "outputs": [],
   "source": [
    "#Convert y_train_smote to a DataFrame\n",
    "y_train_smote_df = pd.DataFrame({'bias_category': y_train_smote})"
   ]
  },
  {
   "cell_type": "code",
   "execution_count": null,
   "id": "79ee8a49",
   "metadata": {},
   "outputs": [],
   "source": [
    "y_train_smote_df.value_counts()"
   ]
  },
  {
   "cell_type": "markdown",
   "id": "9965cce6",
   "metadata": {},
   "source": [
    "# EVAL METRIC TO USE: weighted AVG PRECISION\n",
    "Precision:\n",
    "\n",
    "Precision is the ratio of true positives to the sum of true positives and false positives.\n",
    "It indicates how many of the predicted positive instances are actually positive.\n",
    "High precision means that when the model predicts positive, it is likely to be correct.\n",
    "It is suitable when the cost of false positives is high.\n",
    "in our case, false positives are costly. we want to avoid classifying unbiased headlines as biased. \n",
    "\n",
    "False Positives in your context:\n",
    "\n",
    "A false positive in your task would mean classifying an unbiased headline as biased.\n",
    "This could potentially mislead readers by indicating bias where it doesn't exist, damaging the credibility of your system or platform.\n",
    "Cost of False Positives:\n",
    "\n",
    "If your goal is to accurately identify biased headlines and the cost of misclassifying unbiased content as biased is high, then precision becomes a crucial metric.\n",
    "Precision measures the accuracy of positive predictions, emphasizing how trustworthy the positive predictions are.\n",
    "Objective:\n",
    "\n",
    "You want to minimize the chances of providing false positives to users who rely on your system to identify biased content.\n",
    "Users may lose trust in the system if they receive inaccurate indications of bias in unbiased content.\n",
    "Given these considerations, it would be reasonable to prioritize precision as an evaluation metric in your scenario. A high precision ensures that when your system predicts a headline as biased, it is more likely to be correct. However, it's also a good idea to consider other metrics, such as recall and F1-score, to have a more comprehensive understanding of your model's performance. Finding the right balance between precision and recall is crucial, and it may involve adjusting classification thresholds or exploring alternative model architectures."
   ]
  },
  {
   "cell_type": "code",
   "execution_count": null,
   "id": "ba8f6c11",
   "metadata": {},
   "outputs": [],
   "source": [
    "from sklearn.linear_model import LogisticRegression\n",
    "from sklearn.metrics import recall_score, f1_score, accuracy_score, precision_score, classification_report, confusion_matrix, precision_recall_fscore_support\n",
    "from sklearn.model_selection import GridSearchCV\n",
    "from sklearn.ensemble import RandomForestClassifier"
   ]
  },
  {
   "cell_type": "markdown",
   "id": "303db096",
   "metadata": {},
   "source": [
    "LogReg - simple baseline"
   ]
  },
  {
   "cell_type": "code",
   "execution_count": null,
   "id": "2c6d254d",
   "metadata": {},
   "outputs": [],
   "source": [
    "# Create a logistic regression model\n",
    "logreg_model = LogisticRegression()\n",
    "\n",
    "# Fit the model to the training data\n",
    "logreg_model.fit(X_train_array, y_train)"
   ]
  },
  {
   "cell_type": "code",
   "execution_count": null,
   "id": "c56e2c1e",
   "metadata": {},
   "outputs": [],
   "source": [
    "# Make predictions on the test set\n",
    "logreg_y_pred = logreg_model.predict(X_test_array)\n",
    "\n",
    "# Calculate the weighted-average precision score\n",
    "logreg_weighted_precision = precision_score(y_test, logreg_y_pred, average='weighted')\n",
    "print(f'LogReg Weighted Average Precision Score: {logreg_weighted_precision:.4f}')"
   ]
  },
  {
   "cell_type": "code",
   "execution_count": null,
   "id": "9ccf79e9",
   "metadata": {},
   "outputs": [],
   "source": [
    "# Generate confusion matrix\n",
    "logreg_cm = confusion_matrix(y_test, logreg_y_pred)\n",
    "logreg_cm"
   ]
  },
  {
   "cell_type": "code",
   "execution_count": null,
   "id": "19837c4b",
   "metadata": {},
   "outputs": [],
   "source": [
    "# Display the confusion matrix using a heatmap\n",
    "sns.heatmap(logreg_cm, annot=True, fmt='d', cmap='Blues', cbar=False,\n",
    "            xticklabels=logreg_model.classes_, yticklabels=logreg_model.classes_)\n",
    "plt.xlabel('Predicted')\n",
    "plt.ylabel('True')\n",
    "plt.title('LogReg Baseline Confusion Matrix')\n",
    "plt.show()"
   ]
  },
  {
   "cell_type": "code",
   "execution_count": null,
   "id": "e6fd88d8",
   "metadata": {},
   "outputs": [],
   "source": [
    "# Generate classification report\n",
    "logreg_report = classification_report(y_test, logreg_y_pred)\n",
    "\n",
    "# Print the classification report\n",
    "print(\"Classification Report:\\n\", logreg_report)"
   ]
  },
  {
   "cell_type": "markdown",
   "id": "811bcbc3",
   "metadata": {},
   "source": [
    "rf model"
   ]
  },
  {
   "cell_type": "code",
   "execution_count": null,
   "id": "f42d4b29",
   "metadata": {},
   "outputs": [],
   "source": [
    "# Specify the desired number of trees, for example, 50\n",
    "num_trees = 50\n",
    "\n",
    "# Create an instance of RandomForestClassifier with the specified number of trees\n",
    "rf_model = RandomForestClassifier(n_estimators=num_trees, random_state=42)\n",
    "\n",
    "# Train the model on the training data\n",
    "rf_model.fit(X_train_array, y_train)"
   ]
  },
  {
   "cell_type": "code",
   "execution_count": null,
   "id": "0a40655e",
   "metadata": {},
   "outputs": [],
   "source": [
    "# Make predictions on the test set\n",
    "rf_y_pred = rf_model.predict(X_test_array)\n",
    "\n",
    "# Calculate the weighted-average precision score\n",
    "rf_weighted_precision = precision_score(y_test, rf_y_pred, average='weighted')\n",
    "print(f'RF Weighted Average Precision Score: {rf_weighted_precision:.4f}')"
   ]
  },
  {
   "cell_type": "code",
   "execution_count": null,
   "id": "fd173d16",
   "metadata": {},
   "outputs": [],
   "source": [
    "# Generate classification report\n",
    "rf_report = classification_report(y_test, rf_y_pred)\n",
    "\n",
    "# Print the classification report\n",
    "print(\"Classification Report:\\n\", rf_report)"
   ]
  },
  {
   "cell_type": "code",
   "execution_count": null,
   "id": "557071b4",
   "metadata": {},
   "outputs": [],
   "source": [
    "# Get unique classes from y_test\n",
    "unique_classes = np.unique(y_test)\n",
    "\n",
    "# Generate confusion matrix\n",
    "rf_cm = confusion_matrix(y_test, rf_y_pred)\n",
    "rf_cm"
   ]
  },
  {
   "cell_type": "code",
   "execution_count": null,
   "id": "e8e63002",
   "metadata": {},
   "outputs": [],
   "source": [
    "plt.figure(figsize=(8, 6))\n",
    "sns.heatmap(rf_cm, annot=True, fmt='d', cmap='Blues', cbar=False,\n",
    "            xticklabels=unique_classes, yticklabels=unique_classes)\n",
    "plt.xlabel('Predicted')\n",
    "plt.ylabel('True')\n",
    "plt.title('Random Forest Confusion Matrix')\n",
    "plt.show()\n"
   ]
  },
  {
   "cell_type": "code",
   "execution_count": null,
   "id": "8b003898",
   "metadata": {},
   "outputs": [],
   "source": [
    "from sklearn.svm import SVC\n",
    "\n",
    "# Create an instance of Support Vector Machine (SVM) classifier\n",
    "svm_model = SVC(random_state=42)\n",
    "\n",
    "# Train the model on the training data\n",
    "svm_model.fit(X_train_array, y_train)\n",
    "\n",
    "# Make predictions on the test data\n",
    "y_pred_svm = svm_model.predict(X_test_array)"
   ]
  },
  {
   "cell_type": "code",
   "execution_count": null,
   "id": "b8bc4ba7",
   "metadata": {},
   "outputs": [],
   "source": [
    "# Calculate the weighted-average precision score\n",
    "svm_weighted_precision = precision_score(y_test, y_pred_svm, average='weighted')\n",
    "print(f'SVM Weighted Average Precision Score: {svm_weighted_precision:.4f}')"
   ]
  },
  {
   "cell_type": "code",
   "execution_count": null,
   "id": "4ffc4747",
   "metadata": {},
   "outputs": [],
   "source": [
    "# Generate classification report\n",
    "svm_report = classification_report(y_test, y_pred_svm)\n",
    "\n",
    "# Print the classification report\n",
    "print(\"Classification Report:\\n\", svm_report)"
   ]
  },
  {
   "cell_type": "code",
   "execution_count": null,
   "id": "3d2e68d7",
   "metadata": {},
   "outputs": [],
   "source": [
    "# Get unique classes from y_test\n",
    "unique_classes = np.unique(y_test)\n",
    "\n",
    "# Generate confusion matrix\n",
    "svm_cm = confusion_matrix(y_test, y_pred_svm)\n",
    "svm_cm"
   ]
  },
  {
   "cell_type": "code",
   "execution_count": null,
   "id": "3d099a32",
   "metadata": {},
   "outputs": [],
   "source": [
    "plt.figure(figsize=(8, 6))\n",
    "sns.heatmap(svm_cm, annot=True, fmt='d', cmap='Blues', cbar=False,\n",
    "            xticklabels=unique_classes, yticklabels=unique_classes)\n",
    "plt.xlabel('Predicted')\n",
    "plt.ylabel('True')\n",
    "plt.title('Random Forest Confusion Matrix')\n",
    "plt.show()\n"
   ]
  },
  {
   "cell_type": "code",
   "execution_count": null,
   "id": "3220fa7c",
   "metadata": {},
   "outputs": [],
   "source": [
    "from sklearn.utils.class_weight import compute_class_weight\n",
    "import tensorflow as tf\n",
    "from tensorflow.keras.models import Sequential\n",
    "from tensorflow.keras.layers import Dense\n",
    "from tensorflow.keras.utils import to_categorical\n",
    "from sklearn.preprocessing import LabelEncoder\n",
    "from sklearn.metrics import classification_report\n",
    "from tensorflow.keras.layers import BatchNormalization, Dropout, LeakyReLU\n",
    "from tensorflow.keras.optimizers import Adam"
   ]
  },
  {
   "cell_type": "code",
   "execution_count": null,
   "id": "90f13b17",
   "metadata": {},
   "outputs": [],
   "source": [
    "# Assuming y_train is a pandas Series with string labels\n",
    "label_encoder = LabelEncoder()\n",
    "\n",
    "# Encoding y_test and y_train\n",
    "y_train_encoded = label_encoder.fit_transform(y_train)\n",
    "y_test_encoded = label_encoder.transform(y_test)\n",
    "\n",
    "# One-hot encoding y_train_encoded and y_test_encoded\n",
    "y_train_one_hot = to_categorical(y_train_encoded)\n",
    "y_test_one_hot = to_categorical(y_test_encoded)\n",
    "\n",
    "# Assuming y_train_encoded is an array of class labels\n",
    "class_labels = np.unique(y_train_encoded)\n",
    "\n",
    "# Compute class weights for the neural network\n",
    "class_weights = compute_class_weight(class_weight='balanced', classes=class_labels, y=y_train_encoded)\n",
    "class_weight_dict = dict(enumerate(class_weights))"
   ]
  },
  {
   "cell_type": "code",
   "execution_count": null,
   "id": "e799fceb",
   "metadata": {},
   "outputs": [],
   "source": [
    "# Define the neural network model\n",
    "nn_model = Sequential()\n",
    "nn_model.add(Dense(64, input_dim=X_train_array.shape[1], activation='relu'))\n",
    "nn_model.add(Dense(32, activation='relu'))\n",
    "nn_model.add(Dense(len(class_labels), activation='softmax'))\n",
    "\n",
    "# Compile the model with class weights\n",
    "nn_model.compile(optimizer='adam', loss='categorical_crossentropy', metrics=['accuracy'])\n",
    "\n",
    "# Train the model with class weights\n",
    "nn_model.fit(X_train_array, y_train_one_hot, epochs=10, batch_size=32, validation_split=0.2, class_weight=class_weight_dict)"
   ]
  },
  {
   "cell_type": "code",
   "execution_count": null,
   "id": "da3c77ee",
   "metadata": {},
   "outputs": [],
   "source": [
    "# Make predictions on the test data\n",
    "nn_model_y_pred_one_hot = nn_model.predict(X_test_array)\n",
    "\n",
    "# Convert the predicted probabilities to class labels\n",
    "nn_model_y_pred_classes = np.argmax(nn_model_y_pred_one_hot, axis=1)\n",
    "\n",
    "# Print classification report\n",
    "print(classification_report(y_test_encoded, nn_model_y_pred_classes, target_names=label_encoder.classes_))"
   ]
  },
  {
   "cell_type": "markdown",
   "id": "96d4f7dd",
   "metadata": {},
   "source": [
    "neural net with dropout rate to prevent overfitting"
   ]
  },
  {
   "cell_type": "code",
   "execution_count": null,
   "id": "8faca0b9",
   "metadata": {},
   "outputs": [],
   "source": [
    "# Define the neural network model\n",
    "nn_model_2 = Sequential()\n",
    "nn_model_2.add(Dense(64, input_dim=X_train_array.shape[1], activation='relu'))\n",
    "nn_model_2.add(Dropout(0.5))  # Adding dropout rate of 0.5\n",
    "nn_model_2.add(Dense(32, activation='relu'))\n",
    "nn_model_2.add(Dropout(0.5))  # Adding dropout rate of 0.5\n",
    "nn_model_2.add(Dense(len(class_labels), activation='softmax'))\n",
    "\n",
    "# Compile the model with class weights\n",
    "nn_model_2.compile(optimizer='adam', loss='categorical_crossentropy', metrics=['accuracy'])\n",
    "\n",
    "# Train the model with class weights\n",
    "nn_model_2.fit(X_train_array, y_train_one_hot, epochs=10, batch_size=32, validation_split=0.2, class_weight=class_weight_dict)"
   ]
  },
  {
   "cell_type": "code",
   "execution_count": null,
   "id": "9ab421df",
   "metadata": {},
   "outputs": [],
   "source": [
    "# Make predictions on the test data\n",
    "nn_model_2_y_pred_one_hot = nn_model_2.predict(X_test_array)\n",
    "\n",
    "# Convert the predicted probabilities to class labels\n",
    "nn_model_2_y_pred_classes = np.argmax(nn_model_2_y_pred_one_hot, axis=1)\n",
    "\n",
    "# Print classification report\n",
    "print(classification_report(y_test_encoded, nn_model_2_y_pred_classes, target_names=label_encoder.classes_))"
   ]
  },
  {
   "cell_type": "code",
   "execution_count": null,
   "id": "ec4ba9ff",
   "metadata": {},
   "outputs": [],
   "source": [
    "from tensorflow.keras.regularizers import l2\n",
    "\n",
    "# Define the simple neural network model\n",
    "nn_model_3 = Sequential()\n",
    "nn_model_3.add(Dense(64, input_dim=X_train_array.shape[1], activation='relu', kernel_regularizer=l2(0.01)))\n",
    "nn_model_3.add(Dense(32, activation='relu', kernel_regularizer=l2(0.01)))\n",
    "nn_model_3.add(Dense(len(class_labels), activation='softmax'))\n",
    "\n",
    "# Compile the model with class weights\n",
    "nn_model_3.compile(optimizer='adam', loss='categorical_crossentropy', metrics=['accuracy'])\n",
    "\n",
    "# Train the model with class weights\n",
    "nn_model_3.fit(X_train_array, y_train_one_hot, epochs=10, batch_size=32, validation_split=0.2, class_weight=class_weight_dict)"
   ]
  },
  {
   "cell_type": "code",
   "execution_count": null,
   "id": "b7a9dc9a",
   "metadata": {},
   "outputs": [],
   "source": [
    "# Make predictions on the test data\n",
    "nn_model_3_y_pred_one_hot = nn_model_3.predict(X_test_array)\n",
    "\n",
    "# Convert the predicted probabilities to class labels\n",
    "nn_model_3_y_pred_classes = np.argmax(nn_model_3_y_pred_one_hot, axis=1)\n",
    "\n",
    "# Print classification report\n",
    "print(classification_report(y_test_encoded, nn_model_3_y_pred_classes, target_names=label_encoder.classes_))"
   ]
  },
  {
   "cell_type": "code",
   "execution_count": null,
   "id": "17be2dee",
   "metadata": {},
   "outputs": [],
   "source": [
    "# Define the neural network model\n",
    "nn_model_4 = Sequential()\n",
    "nn_model_4.add(Dense(64, input_dim=X_train_array.shape[1], activation='relu'))\n",
    "nn_model_4.add(BatchNormalization())\n",
    "nn_model_4.add(Dense(32, activation='relu'))\n",
    "nn_model_4.add(BatchNormalization())\n",
    "nn_model_4.add(Dense(len(class_labels), activation='softmax'))\n",
    "\n",
    "# Compile the model with class weights\n",
    "nn_model_4.compile(optimizer='adam', loss='categorical_crossentropy', metrics=['accuracy'])\n",
    "\n",
    "# Train the model with class weights\n",
    "nn_model_4.fit(X_train_array, y_train_one_hot, epochs=10, batch_size=32, validation_split=0.2, class_weight=class_weight_dict)\n"
   ]
  },
  {
   "cell_type": "code",
   "execution_count": null,
   "id": "4b69c967",
   "metadata": {},
   "outputs": [],
   "source": [
    "# Make predictions on the test data\n",
    "nn_model_4_y_pred_one_hot = nn_model_4.predict(X_test_array)\n",
    "\n",
    "# Convert the predicted probabilities to class labels\n",
    "nn_model_4_y_pred_classes = np.argmax(nn_model_4_y_pred_one_hot, axis=1)\n",
    "\n",
    "# Print classification report\n",
    "print(classification_report(y_test_encoded, nn_model_4_y_pred_classes, target_names=label_encoder.classes_))"
   ]
  },
  {
   "cell_type": "code",
   "execution_count": null,
   "id": "591e5813",
   "metadata": {},
   "outputs": [],
   "source": [
    "# Define the neural network model\n",
    "nn_model_5 = Sequential()\n",
    "nn_model_5.add(Dense(128, input_dim=X_train_array.shape[1], activation='relu'))\n",
    "nn_model_5.add(BatchNormalization())\n",
    "nn_model_5.add(Dense(64, input_dim=X_train_array.shape[1], activation='relu'))\n",
    "nn_model_5.add(BatchNormalization())\n",
    "nn_model_5.add(Dense(32, activation='relu'))\n",
    "nn_model_5.add(BatchNormalization())\n",
    "nn_model_5.add(Dense(len(class_labels), activation='softmax'))\n",
    "\n",
    "# Compile the model with class weights\n",
    "nn_model_5.compile(optimizer='adam', loss='categorical_crossentropy', metrics=['accuracy'])\n",
    "\n",
    "# Train the model with class weights\n",
    "nn_model_5.fit(X_train_array, y_train_one_hot, epochs=10, batch_size=32, validation_split=0.2, class_weight=class_weight_dict)"
   ]
  },
  {
   "cell_type": "code",
   "execution_count": null,
   "id": "561fc330",
   "metadata": {},
   "outputs": [],
   "source": [
    "# Make predictions on the test data\n",
    "nn_model_5_y_pred_one_hot = nn_model_5.predict(X_test_array)\n",
    "\n",
    "# Convert the predicted probabilities to class labels\n",
    "nn_model_5_y_pred_classes = np.argmax(nn_model_5_y_pred_one_hot, axis=1)\n",
    "\n",
    "# Print classification report\n",
    "print(classification_report(y_test_encoded, nn_model_5_y_pred_classes, target_names=label_encoder.classes_))"
   ]
  },
  {
   "cell_type": "code",
   "execution_count": null,
   "id": "e18f331e",
   "metadata": {},
   "outputs": [],
   "source": []
  },
  {
   "cell_type": "code",
   "execution_count": null,
   "id": "3a22c334",
   "metadata": {},
   "outputs": [],
   "source": [
    "from tensorflow.keras.layers import LSTM\n",
    "\n",
    "# Define the neural network model with LSTM\n",
    "lstm_model = Sequential()\n",
    "lstm_model.add(LSTM(64, input_shape=(X_train_array.shape[1], 1), activation='relu'))\n",
    "lstm_model.add(BatchNormalization())\n",
    "lstm_model.add(Dropout(0.5))\n",
    "lstm_model.add(Dense(32, activation='relu'))\n",
    "lstm_model.add(BatchNormalization())\n",
    "lstm_model.add(Dropout(0.5))\n",
    "lstm_model.add(Dense(len(class_labels), activation='softmax'))\n",
    "\n",
    "# Compile the model with class weights and a faster learning rate\n",
    "lstm_model.compile(optimizer=Adam(learning_rate=0.01), loss='categorical_crossentropy', metrics=['accuracy'])\n",
    "\n",
    "# Reshape the input data for LSTM (assuming X_train_array has shape (samples, features))\n",
    "X_train_reshaped = X_train_array.reshape((X_train_array.shape[0], X_train_array.shape[1], 1))\n",
    "\n",
    "# Train the RNN model with class weights\n",
    "lstm_model.fit(X_train_reshaped, y_train_one_hot, epochs=5, batch_size=250, validation_split=0.2, class_weight=class_weight_dict)"
   ]
  },
  {
   "cell_type": "code",
   "execution_count": null,
   "id": "1fcb14b4",
   "metadata": {},
   "outputs": [],
   "source": [
    "# Make predictions on the test data\n",
    "lstm_model_y_pred_one_hot = lstm_model.predict(X_test_array)\n",
    "\n",
    "# Convert the predicted probabilities to class labels\n",
    "lstm_model_y_pred_classes = np.argmax(lstm_model_y_pred_one_hot, axis=1)\n",
    "\n",
    "# Convert true labels to class labels\n",
    "lstm_model_y_test_classes = np.argmax(y_test_one_hot, axis=1)\n",
    "\n",
    "# Print classification report\n",
    "print(classification_report(lstm_model_y_test_classes, lstm_model_y_pred_classes, target_names=label_encoder.classes_))\n"
   ]
  },
  {
   "cell_type": "code",
   "execution_count": null,
   "id": "8c7e8843",
   "metadata": {},
   "outputs": [],
   "source": []
  }
 ],
 "metadata": {
  "kernelspec": {
   "display_name": "Python 3 (ipykernel)",
   "language": "python",
   "name": "python3"
  },
  "language_info": {
   "codemirror_mode": {
    "name": "ipython",
    "version": 3
   },
   "file_extension": ".py",
   "mimetype": "text/x-python",
   "name": "python",
   "nbconvert_exporter": "python",
   "pygments_lexer": "ipython3",
   "version": "3.8.18"
  }
 },
 "nbformat": 4,
 "nbformat_minor": 5
}
