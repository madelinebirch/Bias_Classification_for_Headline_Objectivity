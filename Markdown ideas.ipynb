{
 "cells": [
  {
   "cell_type": "markdown",
   "id": "9138a37c",
   "metadata": {},
   "source": [
    "# "
   ]
  },
  {
   "cell_type": "code",
   "execution_count": 1,
   "id": "80bcb649",
   "metadata": {},
   "outputs": [],
   "source": [
    "import pandas as pd"
   ]
  },
  {
   "cell_type": "code",
   "execution_count": 4,
   "id": "07ea2ce4",
   "metadata": {},
   "outputs": [],
   "source": [
    "headlines = pd.read_csv('Data/headlines_site.csv')"
   ]
  },
  {
   "cell_type": "code",
   "execution_count": 5,
   "id": "53188e95",
   "metadata": {},
   "outputs": [
    {
     "data": {
      "text/html": [
       "<div>\n",
       "<style scoped>\n",
       "    .dataframe tbody tr th:only-of-type {\n",
       "        vertical-align: middle;\n",
       "    }\n",
       "\n",
       "    .dataframe tbody tr th {\n",
       "        vertical-align: top;\n",
       "    }\n",
       "\n",
       "    .dataframe thead th {\n",
       "        text-align: right;\n",
       "    }\n",
       "</style>\n",
       "<table border=\"1\" class=\"dataframe\">\n",
       "  <thead>\n",
       "    <tr style=\"text-align: right;\">\n",
       "      <th></th>\n",
       "      <th>index</th>\n",
       "      <th>Unnamed: 0</th>\n",
       "      <th>site</th>\n",
       "      <th>bias</th>\n",
       "      <th>polarity</th>\n",
       "      <th>country_of_pub</th>\n",
       "      <th>monthly_visits</th>\n",
       "      <th>polarity_base</th>\n",
       "      <th>polarity_delta</th>\n",
       "    </tr>\n",
       "  </thead>\n",
       "  <tbody>\n",
       "    <tr>\n",
       "      <th>0</th>\n",
       "      <td>0</td>\n",
       "      <td>0</td>\n",
       "      <td>dailymail.co.uk</td>\n",
       "      <td>1.000000</td>\n",
       "      <td>0.678843</td>\n",
       "      <td>UK</td>\n",
       "      <td>603727000</td>\n",
       "      <td>0.541366</td>\n",
       "      <td>0.253944</td>\n",
       "    </tr>\n",
       "    <tr>\n",
       "      <th>1</th>\n",
       "      <td>1</td>\n",
       "      <td>1</td>\n",
       "      <td>mirror.co.uk</td>\n",
       "      <td>0.782575</td>\n",
       "      <td>0.782561</td>\n",
       "      <td>UK</td>\n",
       "      <td>55700000</td>\n",
       "      <td>0.513530</td>\n",
       "      <td>0.523888</td>\n",
       "    </tr>\n",
       "    <tr>\n",
       "      <th>2</th>\n",
       "      <td>2</td>\n",
       "      <td>2</td>\n",
       "      <td>telegraph.co.uk</td>\n",
       "      <td>0.666060</td>\n",
       "      <td>0.540369</td>\n",
       "      <td>UK</td>\n",
       "      <td>241169000</td>\n",
       "      <td>0.533554</td>\n",
       "      <td>0.012773</td>\n",
       "    </tr>\n",
       "    <tr>\n",
       "      <th>3</th>\n",
       "      <td>3</td>\n",
       "      <td>3</td>\n",
       "      <td>abcnews.go.com</td>\n",
       "      <td>0.658688</td>\n",
       "      <td>0.593267</td>\n",
       "      <td>USA</td>\n",
       "      <td>159709000</td>\n",
       "      <td>0.537541</td>\n",
       "      <td>0.103669</td>\n",
       "    </tr>\n",
       "    <tr>\n",
       "      <th>4</th>\n",
       "      <td>4</td>\n",
       "      <td>4</td>\n",
       "      <td>nydailynews.com</td>\n",
       "      <td>0.648444</td>\n",
       "      <td>0.870303</td>\n",
       "      <td>USA</td>\n",
       "      <td>150664000</td>\n",
       "      <td>0.523117</td>\n",
       "      <td>0.663689</td>\n",
       "    </tr>\n",
       "  </tbody>\n",
       "</table>\n",
       "</div>"
      ],
      "text/plain": [
       "   index  Unnamed: 0             site      bias  polarity country_of_pub  \\\n",
       "0      0           0  dailymail.co.uk  1.000000  0.678843             UK   \n",
       "1      1           1     mirror.co.uk  0.782575  0.782561             UK   \n",
       "2      2           2  telegraph.co.uk  0.666060  0.540369             UK   \n",
       "3      3           3   abcnews.go.com  0.658688  0.593267            USA   \n",
       "4      4           4  nydailynews.com  0.648444  0.870303            USA   \n",
       "\n",
       "   monthly_visits  polarity_base  polarity_delta  \n",
       "0       603727000       0.541366        0.253944  \n",
       "1        55700000       0.513530        0.523888  \n",
       "2       241169000       0.533554        0.012773  \n",
       "3       159709000       0.537541        0.103669  \n",
       "4       150664000       0.523117        0.663689  "
      ]
     },
     "execution_count": 5,
     "metadata": {},
     "output_type": "execute_result"
    }
   ],
   "source": [
    "headlines.head()"
   ]
  },
  {
   "cell_type": "code",
   "execution_count": 6,
   "id": "bc8626bd",
   "metadata": {},
   "outputs": [
    {
     "data": {
      "text/plain": [
       "(186, 9)"
      ]
     },
     "execution_count": 6,
     "metadata": {},
     "output_type": "execute_result"
    }
   ],
   "source": [
    "headlines.shape"
   ]
  },
  {
   "cell_type": "code",
   "execution_count": null,
   "id": "61c330ed",
   "metadata": {},
   "outputs": [],
   "source": []
  }
 ],
 "metadata": {
  "kernelspec": {
   "display_name": "Python 3 (ipykernel)",
   "language": "python",
   "name": "python3"
  },
  "language_info": {
   "codemirror_mode": {
    "name": "ipython",
    "version": 3
   },
   "file_extension": ".py",
   "mimetype": "text/x-python",
   "name": "python",
   "nbconvert_exporter": "python",
   "pygments_lexer": "ipython3",
   "version": "3.8.18"
  }
 },
 "nbformat": 4,
 "nbformat_minor": 5
}
