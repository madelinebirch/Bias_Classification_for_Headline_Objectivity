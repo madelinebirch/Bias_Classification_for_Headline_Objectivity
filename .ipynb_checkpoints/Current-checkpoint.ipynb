{
 "cells": [
  {
   "cell_type": "code",
   "execution_count": 1,
   "metadata": {},
   "outputs": [],
   "source": [
    "import pandas as pd"
   ]
  },
  {
   "cell_type": "code",
   "execution_count": 2,
   "metadata": {},
   "outputs": [],
   "source": [
    "headlines = pd.read_csv('Data/headlines.csv')"
   ]
  },
  {
   "cell_type": "code",
   "execution_count": 3,
   "metadata": {},
   "outputs": [
    {
     "data": {
      "text/plain": [
       "(382139, 8)"
      ]
     },
     "execution_count": 3,
     "metadata": {},
     "output_type": "execute_result"
    }
   ],
   "source": [
    "headlines.shape"
   ]
  },
  {
   "cell_type": "code",
   "execution_count": 4,
   "metadata": {},
   "outputs": [
    {
     "data": {
      "text/html": [
       "<div>\n",
       "<style scoped>\n",
       "    .dataframe tbody tr th:only-of-type {\n",
       "        vertical-align: middle;\n",
       "    }\n",
       "\n",
       "    .dataframe tbody tr th {\n",
       "        vertical-align: top;\n",
       "    }\n",
       "\n",
       "    .dataframe thead th {\n",
       "        text-align: right;\n",
       "    }\n",
       "</style>\n",
       "<table border=\"1\" class=\"dataframe\">\n",
       "  <thead>\n",
       "    <tr style=\"text-align: right;\">\n",
       "      <th></th>\n",
       "      <th>index</th>\n",
       "      <th>Unnamed: 0</th>\n",
       "      <th>url</th>\n",
       "      <th>headline_no_site</th>\n",
       "      <th>site</th>\n",
       "      <th>time</th>\n",
       "      <th>country</th>\n",
       "      <th>bias</th>\n",
       "    </tr>\n",
       "  </thead>\n",
       "  <tbody>\n",
       "    <tr>\n",
       "      <th>0</th>\n",
       "      <td>0</td>\n",
       "      <td>0</td>\n",
       "      <td>https://www.iol.co.za/entertainment/movies-the...</td>\n",
       "      <td>'Lady Bird' buzzes through young sexuality</td>\n",
       "      <td>iol.co.za</td>\n",
       "      <td>2018-02-23 08:00:00+00:00</td>\n",
       "      <td>South Africa</td>\n",
       "      <td>0.000000</td>\n",
       "    </tr>\n",
       "    <tr>\n",
       "      <th>1</th>\n",
       "      <td>1</td>\n",
       "      <td>1</td>\n",
       "      <td>https://www.iol.co.za/entertainment/music/the-...</td>\n",
       "      <td>The shadowy urban POP super Starrah who loves ...</td>\n",
       "      <td>iol.co.za</td>\n",
       "      <td>2018-01-10 08:00:00+00:00</td>\n",
       "      <td>South Africa</td>\n",
       "      <td>0.166667</td>\n",
       "    </tr>\n",
       "    <tr>\n",
       "      <th>2</th>\n",
       "      <td>2</td>\n",
       "      <td>2</td>\n",
       "      <td>https://www.iol.co.za/entertainment/celebrity-...</td>\n",
       "      <td>Rihanna pens heartfelt tribute to her mom in b...</td>\n",
       "      <td>iol.co.za</td>\n",
       "      <td>2018-02-21 08:00:00+00:00</td>\n",
       "      <td>South Africa</td>\n",
       "      <td>0.333333</td>\n",
       "    </tr>\n",
       "    <tr>\n",
       "      <th>3</th>\n",
       "      <td>3</td>\n",
       "      <td>3</td>\n",
       "      <td>https://www.iol.co.za/news/south-africa/wester...</td>\n",
       "      <td>Shock as woman accused of killing teen girlfri...</td>\n",
       "      <td>iol.co.za</td>\n",
       "      <td>2018-02-27 08:00:00+00:00</td>\n",
       "      <td>South Africa</td>\n",
       "      <td>0.333333</td>\n",
       "    </tr>\n",
       "    <tr>\n",
       "      <th>4</th>\n",
       "      <td>4</td>\n",
       "      <td>4</td>\n",
       "      <td>https://www.iol.co.za/business-report/careers/...</td>\n",
       "      <td>TOP STORY: Meet South Africa's new first lady ...</td>\n",
       "      <td>iol.co.za</td>\n",
       "      <td>2018-02-15 08:00:00+00:00</td>\n",
       "      <td>South Africa</td>\n",
       "      <td>0.166667</td>\n",
       "    </tr>\n",
       "  </tbody>\n",
       "</table>\n",
       "</div>"
      ],
      "text/plain": [
       "   index  Unnamed: 0                                                url  \\\n",
       "0      0           0  https://www.iol.co.za/entertainment/movies-the...   \n",
       "1      1           1  https://www.iol.co.za/entertainment/music/the-...   \n",
       "2      2           2  https://www.iol.co.za/entertainment/celebrity-...   \n",
       "3      3           3  https://www.iol.co.za/news/south-africa/wester...   \n",
       "4      4           4  https://www.iol.co.za/business-report/careers/...   \n",
       "\n",
       "                                    headline_no_site       site  \\\n",
       "0         'Lady Bird' buzzes through young sexuality  iol.co.za   \n",
       "1  The shadowy urban POP super Starrah who loves ...  iol.co.za   \n",
       "2  Rihanna pens heartfelt tribute to her mom in b...  iol.co.za   \n",
       "3  Shock as woman accused of killing teen girlfri...  iol.co.za   \n",
       "4  TOP STORY: Meet South Africa's new first lady ...  iol.co.za   \n",
       "\n",
       "                        time       country      bias  \n",
       "0  2018-02-23 08:00:00+00:00  South Africa  0.000000  \n",
       "1  2018-01-10 08:00:00+00:00  South Africa  0.166667  \n",
       "2  2018-02-21 08:00:00+00:00  South Africa  0.333333  \n",
       "3  2018-02-27 08:00:00+00:00  South Africa  0.333333  \n",
       "4  2018-02-15 08:00:00+00:00  South Africa  0.166667  "
      ]
     },
     "execution_count": 4,
     "metadata": {},
     "output_type": "execute_result"
    }
   ],
   "source": [
    "headlines.head()"
   ]
  },
  {
   "cell_type": "code",
   "execution_count": 5,
   "metadata": {},
   "outputs": [
    {
     "data": {
      "text/plain": [
       "index               0\n",
       "Unnamed: 0          0\n",
       "url                 0\n",
       "headline_no_site    0\n",
       "site                0\n",
       "time                0\n",
       "country             0\n",
       "bias                0\n",
       "dtype: int64"
      ]
     },
     "execution_count": 5,
     "metadata": {},
     "output_type": "execute_result"
    }
   ],
   "source": [
    "headlines.isnull().sum()"
   ]
  },
  {
   "cell_type": "code",
   "execution_count": 6,
   "metadata": {},
   "outputs": [
    {
     "data": {
      "text/plain": [
       "Index(['index', 'Unnamed: 0', 'url', 'headline_no_site', 'site', 'time',\n",
       "       'country', 'bias'],\n",
       "      dtype='object')"
      ]
     },
     "execution_count": 6,
     "metadata": {},
     "output_type": "execute_result"
    }
   ],
   "source": [
    "headlines.columns"
   ]
  },
  {
   "cell_type": "code",
   "execution_count": 7,
   "metadata": {},
   "outputs": [
    {
     "data": {
      "text/html": [
       "<div>\n",
       "<style scoped>\n",
       "    .dataframe tbody tr th:only-of-type {\n",
       "        vertical-align: middle;\n",
       "    }\n",
       "\n",
       "    .dataframe tbody tr th {\n",
       "        vertical-align: top;\n",
       "    }\n",
       "\n",
       "    .dataframe thead th {\n",
       "        text-align: right;\n",
       "    }\n",
       "</style>\n",
       "<table border=\"1\" class=\"dataframe\">\n",
       "  <thead>\n",
       "    <tr style=\"text-align: right;\">\n",
       "      <th></th>\n",
       "      <th>index</th>\n",
       "      <th>Unnamed: 0</th>\n",
       "      <th>bias</th>\n",
       "    </tr>\n",
       "  </thead>\n",
       "  <tbody>\n",
       "    <tr>\n",
       "      <th>count</th>\n",
       "      <td>382139.000000</td>\n",
       "      <td>382139.000000</td>\n",
       "      <td>382139.000000</td>\n",
       "    </tr>\n",
       "    <tr>\n",
       "      <th>mean</th>\n",
       "      <td>191069.000000</td>\n",
       "      <td>191069.000000</td>\n",
       "      <td>0.171057</td>\n",
       "    </tr>\n",
       "    <tr>\n",
       "      <th>std</th>\n",
       "      <td>110314.171596</td>\n",
       "      <td>110314.171596</td>\n",
       "      <td>0.101210</td>\n",
       "    </tr>\n",
       "    <tr>\n",
       "      <th>min</th>\n",
       "      <td>0.000000</td>\n",
       "      <td>0.000000</td>\n",
       "      <td>0.000000</td>\n",
       "    </tr>\n",
       "    <tr>\n",
       "      <th>25%</th>\n",
       "      <td>95534.500000</td>\n",
       "      <td>95534.500000</td>\n",
       "      <td>0.166667</td>\n",
       "    </tr>\n",
       "    <tr>\n",
       "      <th>50%</th>\n",
       "      <td>191069.000000</td>\n",
       "      <td>191069.000000</td>\n",
       "      <td>0.166667</td>\n",
       "    </tr>\n",
       "    <tr>\n",
       "      <th>75%</th>\n",
       "      <td>286603.500000</td>\n",
       "      <td>286603.500000</td>\n",
       "      <td>0.166667</td>\n",
       "    </tr>\n",
       "    <tr>\n",
       "      <th>max</th>\n",
       "      <td>382138.000000</td>\n",
       "      <td>382138.000000</td>\n",
       "      <td>1.000000</td>\n",
       "    </tr>\n",
       "  </tbody>\n",
       "</table>\n",
       "</div>"
      ],
      "text/plain": [
       "               index     Unnamed: 0           bias\n",
       "count  382139.000000  382139.000000  382139.000000\n",
       "mean   191069.000000  191069.000000       0.171057\n",
       "std    110314.171596  110314.171596       0.101210\n",
       "min         0.000000       0.000000       0.000000\n",
       "25%     95534.500000   95534.500000       0.166667\n",
       "50%    191069.000000  191069.000000       0.166667\n",
       "75%    286603.500000  286603.500000       0.166667\n",
       "max    382138.000000  382138.000000       1.000000"
      ]
     },
     "execution_count": 7,
     "metadata": {},
     "output_type": "execute_result"
    }
   ],
   "source": [
    "headlines.describe()"
   ]
  },
  {
   "cell_type": "code",
   "execution_count": 8,
   "metadata": {},
   "outputs": [
    {
     "data": {
      "text/html": [
       "<div>\n",
       "<style scoped>\n",
       "    .dataframe tbody tr th:only-of-type {\n",
       "        vertical-align: middle;\n",
       "    }\n",
       "\n",
       "    .dataframe tbody tr th {\n",
       "        vertical-align: top;\n",
       "    }\n",
       "\n",
       "    .dataframe thead th {\n",
       "        text-align: right;\n",
       "    }\n",
       "</style>\n",
       "<table border=\"1\" class=\"dataframe\">\n",
       "  <thead>\n",
       "    <tr style=\"text-align: right;\">\n",
       "      <th></th>\n",
       "      <th>index</th>\n",
       "      <th>headline_no_site</th>\n",
       "      <th>site</th>\n",
       "      <th>time</th>\n",
       "      <th>country</th>\n",
       "      <th>bias</th>\n",
       "    </tr>\n",
       "  </thead>\n",
       "  <tbody>\n",
       "    <tr>\n",
       "      <th>0</th>\n",
       "      <td>0</td>\n",
       "      <td>'Lady Bird' buzzes through young sexuality</td>\n",
       "      <td>iol.co.za</td>\n",
       "      <td>2018-02-23 08:00:00+00:00</td>\n",
       "      <td>South Africa</td>\n",
       "      <td>0.000000</td>\n",
       "    </tr>\n",
       "    <tr>\n",
       "      <th>1</th>\n",
       "      <td>1</td>\n",
       "      <td>The shadowy urban POP super Starrah who loves ...</td>\n",
       "      <td>iol.co.za</td>\n",
       "      <td>2018-01-10 08:00:00+00:00</td>\n",
       "      <td>South Africa</td>\n",
       "      <td>0.166667</td>\n",
       "    </tr>\n",
       "    <tr>\n",
       "      <th>2</th>\n",
       "      <td>2</td>\n",
       "      <td>Rihanna pens heartfelt tribute to her mom in b...</td>\n",
       "      <td>iol.co.za</td>\n",
       "      <td>2018-02-21 08:00:00+00:00</td>\n",
       "      <td>South Africa</td>\n",
       "      <td>0.333333</td>\n",
       "    </tr>\n",
       "    <tr>\n",
       "      <th>3</th>\n",
       "      <td>3</td>\n",
       "      <td>Shock as woman accused of killing teen girlfri...</td>\n",
       "      <td>iol.co.za</td>\n",
       "      <td>2018-02-27 08:00:00+00:00</td>\n",
       "      <td>South Africa</td>\n",
       "      <td>0.333333</td>\n",
       "    </tr>\n",
       "    <tr>\n",
       "      <th>4</th>\n",
       "      <td>4</td>\n",
       "      <td>TOP STORY: Meet South Africa's new first lady ...</td>\n",
       "      <td>iol.co.za</td>\n",
       "      <td>2018-02-15 08:00:00+00:00</td>\n",
       "      <td>South Africa</td>\n",
       "      <td>0.166667</td>\n",
       "    </tr>\n",
       "  </tbody>\n",
       "</table>\n",
       "</div>"
      ],
      "text/plain": [
       "   index                                   headline_no_site       site  \\\n",
       "0      0         'Lady Bird' buzzes through young sexuality  iol.co.za   \n",
       "1      1  The shadowy urban POP super Starrah who loves ...  iol.co.za   \n",
       "2      2  Rihanna pens heartfelt tribute to her mom in b...  iol.co.za   \n",
       "3      3  Shock as woman accused of killing teen girlfri...  iol.co.za   \n",
       "4      4  TOP STORY: Meet South Africa's new first lady ...  iol.co.za   \n",
       "\n",
       "                        time       country      bias  \n",
       "0  2018-02-23 08:00:00+00:00  South Africa  0.000000  \n",
       "1  2018-01-10 08:00:00+00:00  South Africa  0.166667  \n",
       "2  2018-02-21 08:00:00+00:00  South Africa  0.333333  \n",
       "3  2018-02-27 08:00:00+00:00  South Africa  0.333333  \n",
       "4  2018-02-15 08:00:00+00:00  South Africa  0.166667  "
      ]
     },
     "execution_count": 8,
     "metadata": {},
     "output_type": "execute_result"
    }
   ],
   "source": [
    "headlines.drop(['Unnamed: 0', 'url'], axis=1, inplace=True)\n",
    "headlines.head()"
   ]
  },
  {
   "cell_type": "code",
   "execution_count": 9,
   "metadata": {},
   "outputs": [
    {
     "data": {
      "text/plain": [
       "country\n",
       "India           138590\n",
       "USA             115669\n",
       "UK              109286\n",
       "South Africa     18594\n",
       "Name: count, dtype: int64"
      ]
     },
     "execution_count": 9,
     "metadata": {},
     "output_type": "execute_result"
    }
   ],
   "source": [
    "headlines['country'].value_counts()"
   ]
  },
  {
   "cell_type": "code",
   "execution_count": 10,
   "metadata": {},
   "outputs": [
    {
     "data": {
      "text/plain": [
       "array(['iol.co.za', 'msn.com', 'News24.com', 'Sowetanlive.co.za',\n",
       "       'Timeslive.co.za', 'abcnews.go.com', 'businessinsider.com',\n",
       "       'buzzfeed.com', 'cbsnews.com', 'chicagotribune.com', 'chron.com',\n",
       "       'cnn.com', 'dailymail.co.uk', 'dailyrecord.co.uk',\n",
       "       'deccanchronicle.com', 'digitalspy.com', 'dnaindia.com',\n",
       "       'economictimes.indiatimes.com', 'eonline.com', 'express.co.uk',\n",
       "       'firstpost.com', 'forbes.com', 'foxnews.com',\n",
       "       'freepressjournal.in', 'hindustantimes.com',\n",
       "       'hollywoodreporter.com', 'ibtimes.co.uk', 'independent.co.uk',\n",
       "       'india.com', 'indianexpress.com', 'indiatimes.com',\n",
       "       'indiatoday.in', 'latimes.com', 'manchestereveningnews.co.uk',\n",
       "       'metro.co.uk', 'mirror.co.uk', 'nbcnews.com', 'ndtv.com',\n",
       "       'newindianexpress.com', 'news.sky.com', 'news.yahoo.com',\n",
       "       'news18.com', 'npr.org', 'nydailynews.com', 'nypost.com',\n",
       "       'nytimes.com', 'people.com', 'popsugar.com', 'rediff.com',\n",
       "       'refinery29.com', 'scroll.in', 'standard.co.uk', 'telegraph.co.uk',\n",
       "       'theguardian.com', 'thehill.com', 'thehindu.com',\n",
       "       'theladbible.com', 'thenewsminute.com', 'thequint.com',\n",
       "       'thesun.co.uk', 'thetimes.co.uk', 'time.com', 'timesnownews.com',\n",
       "       'timesofindia.com', 'unilad.co.uk', 'usatoday.com',\n",
       "       'usmagazine.com', 'washingtonpost.com', 'yahoo.com',\n",
       "       'Businesslive.co.za', 'Enca.com', 'Ewn.co.za',\n",
       "       'Thesouthafrican.com', 'bleacherreport.com', 'breitbart.com',\n",
       "       'cbssports.com', 'cnbc.com', 'cnet.com', 'complex.com',\n",
       "       'dailycaller.com', 'deccanherald.com', 'edition.cnn.com',\n",
       "       'espn.co.uk', 'espncricinfo.com', 'ew.com', 'fivethirtyeight.com',\n",
       "       'gawker.com', 'gizmodo.com', 'greaterkashmir.com', 'health.com',\n",
       "       'heraldlive.co.za', 'ign.com', 'ksl.com', 'littlethings.com',\n",
       "       'mashable.com', 'mensxp.com', 'mg.co.za', 'msnbc.com',\n",
       "       'nationalgeographic.com', 'nbcsports.com', 'pitchfork.com',\n",
       "       'politico.com', 'prokerala.com', 'rawstory.com', 'reuters.com',\n",
       "       'rt.com', 'scoopwhoop.com', 'sfgate.com', 'si.com', 'slate.com',\n",
       "       'sports.yahoo.com', 'swarajyamag.com', 'theatlantic.com',\n",
       "       'theverge.com', 'thisismoney.co.uk', 'timeout.com', 'tmz.com',\n",
       "       'vogue.in', 'vox.com', 'walesonline.co.uk', 'wired.com',\n",
       "       'birminghammail.co.uk', 'bloomberg.com', 'chroniclelive.co.uk',\n",
       "       'cosmopolitan.com', 'digitaltrends.com', 'finance.yahoo.com',\n",
       "       'givemesport.com', 'huffingtonpost.co.uk', 'huffingtonpost.com',\n",
       "       'livemint.com', 'liverpoolecho.co.uk', 'lowvelder.co.za',\n",
       "       'marketwatch.com', 'outlookindia.com', 'rollingstone.com',\n",
       "       'skysports.com', 'vice.com', 'vogue.com', 'Capetownetc.com',\n",
       "       'Dailymaverick.co.za', 'Iol.co.za', 'bbc.co.uk', 'dailykos.com',\n",
       "       'lifehacker.com', 'style.yahoo.com', 'thewire.in', 'Citizen.co.za',\n",
       "       'dailystar.co.uk', 'dispatchlive.co.za', 'mykhel.com',\n",
       "       'oneindia.com', 'asianetnews.com', 'espn.go.com', 'newsmax.com',\n",
       "       'thebetterindia.com', 'opindia.com', 'bbc.com', 'salon.com',\n",
       "       'plymouthherald.co.uk', 'BusinessTech.co.za', 'Moneyweb.co.za',\n",
       "       'MyBroadband.co.za', 'autoexpress.co.uk', 'cbn.co.za',\n",
       "       'dailysun.co.za', 'ft.com', 'gamespot.com', 'howtogeek.com',\n",
       "       'makeuseof.com', 'nature.com', 'news.google.com',\n",
       "       'pcadvisor.co.uk', 'pcmag.com', 'realsimple.com',\n",
       "       'seekingalpha.com', 'techradar.com', 'telegraphindia.com',\n",
       "       'theblaze.com', 'thedailybeast.com', 'which.co.uk',\n",
       "       'zululandobserver.co.za', 'wsj.com', 'Msn.com',\n",
       "       'Businessinsider.co.za', 'aajtak.in'], dtype=object)"
      ]
     },
     "execution_count": 10,
     "metadata": {},
     "output_type": "execute_result"
    }
   ],
   "source": [
    "headlines['site'].unique()"
   ]
  },
  {
   "cell_type": "code",
   "execution_count": 11,
   "metadata": {},
   "outputs": [
    {
     "data": {
      "text/plain": [
       "site\n",
       "dailymail.co.uk    8219\n",
       "telegraph.co.uk    7596\n",
       "abcnews.go.com     6305\n",
       "indiatimes.com     6269\n",
       "mirror.co.uk       6207\n",
       "                   ... \n",
       "news.google.com       4\n",
       "makeuseof.com         3\n",
       "howtogeek.com         3\n",
       "pcadvisor.co.uk       1\n",
       "dailysun.co.za        1\n",
       "Name: count, Length: 186, dtype: int64"
      ]
     },
     "execution_count": 11,
     "metadata": {},
     "output_type": "execute_result"
    }
   ],
   "source": [
    "headlines['site'].value_counts()"
   ]
  },
  {
   "cell_type": "code",
   "execution_count": 12,
   "metadata": {},
   "outputs": [
    {
     "data": {
      "text/plain": [
       "site\n",
       "dailymail.co.uk        8219\n",
       "telegraph.co.uk        7596\n",
       "abcnews.go.com         6305\n",
       "indiatimes.com         6269\n",
       "mirror.co.uk           6207\n",
       "washingtonpost.com     6143\n",
       "nytimes.com            6032\n",
       "independent.co.uk      5983\n",
       "nydailynews.com        5929\n",
       "express.co.uk          5919\n",
       "eonline.com            5826\n",
       "usmagazine.com         5582\n",
       "metro.co.uk            5538\n",
       "dnaindia.com           5372\n",
       "forbes.com             5297\n",
       "usatoday.com           5239\n",
       "standard.co.uk         5207\n",
       "people.com             5125\n",
       "businessinsider.com    5117\n",
       "nypost.com             5044\n",
       "Name: count, dtype: int64"
      ]
     },
     "execution_count": 12,
     "metadata": {},
     "output_type": "execute_result"
    }
   ],
   "source": [
    "# Assuming 'headlines' is the name of your dataframe\n",
    "min_headlines_threshold = 5000\n",
    "top_sites = headlines['site'].value_counts()\n",
    "top_sites = top_sites[top_sites >= min_headlines_threshold].index\n",
    "\n",
    "# Create a new dataframe with only the sites with at least 5000 headlines\n",
    "headlines_filtered = headlines[headlines['site'].isin(top_sites)].copy()\n",
    "\n",
    "# Display the value counts for the new dataframe\n",
    "headlines_filtered['site'].value_counts()\n"
   ]
  },
  {
   "cell_type": "code",
   "execution_count": 13,
   "metadata": {},
   "outputs": [
    {
     "data": {
      "text/plain": [
       "(117949, 6)"
      ]
     },
     "execution_count": 13,
     "metadata": {},
     "output_type": "execute_result"
    }
   ],
   "source": [
    "headlines_filtered.shape"
   ]
  },
  {
   "cell_type": "code",
   "execution_count": 14,
   "metadata": {},
   "outputs": [
    {
     "data": {
      "image/png": "[encoded data removed]",
      "text/plain": [
       "<Figure size 800x800 with 1 Axes>"
      ]
     },
     "metadata": {},
     "output_type": "display_data"
    }
   ],
   "source": [
    "import matplotlib.pyplot as plt\n",
    "import seaborn as sns\n",
    "\n",
    "# Assuming 'headlines_filtered' is the name of your dataframe\n",
    "top_10_sites = headlines_filtered['site'].value_counts().nlargest(10)\n",
    "\n",
    "# Create a pie chart\n",
    "plt.figure(figsize=(8, 8))\n",
    "plt.pie(top_10_sites, labels=top_10_sites.index, autopct='%1.1f%%', colors=sns.color_palette('viridis'), startangle=90)\n",
    "plt.title('Top 10 News Sources Distribution')\n",
    "plt.tight_layout()\n",
    "\n",
    "# Show the plot\n",
    "plt.show()\n"
   ]
  },
  {
   "cell_type": "code",
   "execution_count": 15,
   "metadata": {},
   "outputs": [
    {
     "data": {
      "text/plain": [
       "9207    2016-02-03 08:00:00+00:00\n",
       "9208    2016-01-19 08:00:00+00:00\n",
       "9209    2016-02-27 08:00:00+00:00\n",
       "9210    2016-02-03 08:00:00+00:00\n",
       "9211    2016-02-10 08:00:00+00:00\n",
       "Name: time, dtype: object"
      ]
     },
     "execution_count": 15,
     "metadata": {},
     "output_type": "execute_result"
    }
   ],
   "source": [
    "headlines_filtered['time'].head()"
   ]
  },
  {
   "cell_type": "code",
   "execution_count": 16,
   "metadata": {},
   "outputs": [],
   "source": [
    "# convert time column to datetime format, eliminating timestamp element\n",
    "headlines_filtered['date'] = pd.to_datetime(headlines_filtered['time']).dt.strftime('%Y-%m-%d')\n",
    "\n",
    "# Drop the original 'time' column\n",
    "headlines_filtered.drop(['time'], axis=1, inplace=True)\n",
    "\n",
    "# Rename the new 'date' column\n",
    "headlines_filtered.rename(columns={'date': 'date'}, inplace=True)"
   ]
  },
  {
   "cell_type": "code",
   "execution_count": 17,
   "metadata": {},
   "outputs": [
    {
     "data": {
      "text/plain": [
       "9207    2016-02-03\n",
       "9208    2016-01-19\n",
       "9209    2016-02-27\n",
       "9210    2016-02-03\n",
       "9211    2016-02-10\n",
       "Name: date, dtype: object"
      ]
     },
     "execution_count": 17,
     "metadata": {},
     "output_type": "execute_result"
    }
   ],
   "source": [
    "headlines_filtered['date'].head()"
   ]
  },
  {
   "cell_type": "code",
   "execution_count": 18,
   "metadata": {},
   "outputs": [
    {
     "data": {
      "text/html": [
       "<div>\n",
       "<style scoped>\n",
       "    .dataframe tbody tr th:only-of-type {\n",
       "        vertical-align: middle;\n",
       "    }\n",
       "\n",
       "    .dataframe tbody tr th {\n",
       "        vertical-align: top;\n",
       "    }\n",
       "\n",
       "    .dataframe thead th {\n",
       "        text-align: right;\n",
       "    }\n",
       "</style>\n",
       "<table border=\"1\" class=\"dataframe\">\n",
       "  <thead>\n",
       "    <tr style=\"text-align: right;\">\n",
       "      <th></th>\n",
       "      <th>index</th>\n",
       "      <th>headline_no_site</th>\n",
       "      <th>site</th>\n",
       "      <th>country</th>\n",
       "      <th>bias</th>\n",
       "      <th>date</th>\n",
       "    </tr>\n",
       "  </thead>\n",
       "  <tbody>\n",
       "    <tr>\n",
       "      <th>9207</th>\n",
       "      <td>9207</td>\n",
       "      <td>Mother and Daughter Reunite After 82 Years</td>\n",
       "      <td>abcnews.go.com</td>\n",
       "      <td>USA</td>\n",
       "      <td>0.333333</td>\n",
       "      <td>2016-02-03</td>\n",
       "    </tr>\n",
       "    <tr>\n",
       "      <th>9208</th>\n",
       "      <td>9208</td>\n",
       "      <td>Hayden Panettiere 'Happy' to Stand Up for Wome...</td>\n",
       "      <td>abcnews.go.com</td>\n",
       "      <td>USA</td>\n",
       "      <td>0.166667</td>\n",
       "      <td>2016-01-19</td>\n",
       "    </tr>\n",
       "    <tr>\n",
       "      <th>9209</th>\n",
       "      <td>9209</td>\n",
       "      <td>Woman Gets Trendy Tattoo to 'Caution' People S...</td>\n",
       "      <td>abcnews.go.com</td>\n",
       "      <td>USA</td>\n",
       "      <td>0.333333</td>\n",
       "      <td>2016-02-27</td>\n",
       "    </tr>\n",
       "    <tr>\n",
       "      <th>9210</th>\n",
       "      <td>9210</td>\n",
       "      <td>Timeline of Alleged Abduction and Slaying of 1...</td>\n",
       "      <td>abcnews.go.com</td>\n",
       "      <td>USA</td>\n",
       "      <td>0.166667</td>\n",
       "      <td>2016-02-03</td>\n",
       "    </tr>\n",
       "    <tr>\n",
       "      <th>9211</th>\n",
       "      <td>9211</td>\n",
       "      <td>Unabomber Ted Kaczynski's Brother, Sister in L...</td>\n",
       "      <td>abcnews.go.com</td>\n",
       "      <td>USA</td>\n",
       "      <td>0.166667</td>\n",
       "      <td>2016-02-10</td>\n",
       "    </tr>\n",
       "  </tbody>\n",
       "</table>\n",
       "</div>"
      ],
      "text/plain": [
       "      index                                   headline_no_site  \\\n",
       "9207   9207         Mother and Daughter Reunite After 82 Years   \n",
       "9208   9208  Hayden Panettiere 'Happy' to Stand Up for Wome...   \n",
       "9209   9209  Woman Gets Trendy Tattoo to 'Caution' People S...   \n",
       "9210   9210  Timeline of Alleged Abduction and Slaying of 1...   \n",
       "9211   9211  Unabomber Ted Kaczynski's Brother, Sister in L...   \n",
       "\n",
       "                site country      bias        date  \n",
       "9207  abcnews.go.com     USA  0.333333  2016-02-03  \n",
       "9208  abcnews.go.com     USA  0.166667  2016-01-19  \n",
       "9209  abcnews.go.com     USA  0.333333  2016-02-27  \n",
       "9210  abcnews.go.com     USA  0.166667  2016-02-03  \n",
       "9211  abcnews.go.com     USA  0.166667  2016-02-10  "
      ]
     },
     "execution_count": 18,
     "metadata": {},
     "output_type": "execute_result"
    }
   ],
   "source": [
    "headlines_filtered.head()"
   ]
  },
  {
   "cell_type": "code",
   "execution_count": 19,
   "metadata": {},
   "outputs": [
    {
     "data": {
      "text/plain": [
       "country\n",
       "UK       42593\n",
       "USA      39050\n",
       "India    36306\n",
       "Name: count, dtype: int64"
      ]
     },
     "execution_count": 19,
     "metadata": {},
     "output_type": "execute_result"
    }
   ],
   "source": [
    "headlines_filtered['country'].value_counts()"
   ]
  },
  {
   "cell_type": "code",
   "execution_count": 20,
   "metadata": {},
   "outputs": [
    {
     "name": "stderr",
     "output_type": "stream",
     "text": [
      "/var/folders/xl/6sfvtvk54y1982txcc62tyqw0000gn/T/ipykernel_60122/362590049.py:6: FutureWarning: \n",
      "\n",
      "Passing `palette` without assigning `hue` is deprecated and will be removed in v0.14.0. Assign the `x` variable to `hue` and set `legend=False` for the same effect.\n",
      "\n",
      "  sns.countplot(x='country', data=headlines_filtered, palette='viridis')\n"
     ]
    },
    {
     "data": {
      "image/png": "[encoded data removed]",
      "text/plain": [
       "<Figure size 800x600 with 1 Axes>"
      ]
     },
     "metadata": {},
     "output_type": "display_data"
    }
   ],
   "source": [
    "import matplotlib.pyplot as plt\n",
    "import seaborn as sns\n",
    "\n",
    "# Assuming 'headlines_filtered' is the name of your dataframe\n",
    "plt.figure(figsize=(8, 6))\n",
    "sns.countplot(x='country', data=headlines_filtered, palette='viridis')\n",
    "plt.title('Distribution of Countries')\n",
    "plt.xlabel('Country')\n",
    "plt.ylabel('Number of Headlines')\n",
    "plt.tight_layout()\n",
    "\n",
    "# Show the plot\n",
    "plt.show()\n"
   ]
  },
  {
   "cell_type": "code",
   "execution_count": 21,
   "metadata": {},
   "outputs": [
    {
     "name": "stdout",
     "output_type": "stream",
     "text": [
      "Range of Years: 2005 to 2021\n"
     ]
    }
   ],
   "source": [
    "# Convert 'date' column to datetime format (again????)\n",
    "headlines_filtered['date'] = pd.to_datetime(headlines_filtered['date'])\n",
    "\n",
    "# Display the range of years represented in the dataframe\n",
    "print(\"Range of Years:\", headlines_filtered['date'].dt.year.min(), \"to\", headlines_filtered['date'].dt.year.max())"
   ]
  },
  {
   "cell_type": "code",
   "execution_count": 22,
   "metadata": {},
   "outputs": [
    {
     "data": {
      "image/png": "[encoded data removed]",
      "text/plain": [
       "<Figure size 1200x600 with 1 Axes>"
      ]
     },
     "metadata": {},
     "output_type": "display_data"
    }
   ],
   "source": [
    "# Set a Seaborn style\n",
    "sns.set(style=\"whitegrid\")\n",
    "\n",
    "# Assuming 'headlines_filtered' is the name of your dataframe\n",
    "# Convert 'date' column to datetime format if not already\n",
    "headlines_filtered['date'] = pd.to_datetime(headlines_filtered['date'])\n",
    "\n",
    "# Group by year and calculate the average bias score\n",
    "average_bias_by_year = headlines_filtered.groupby(headlines_filtered['date'].dt.year)['bias'].mean().reset_index()\n",
    "\n",
    "# Plot the average bias score for each year\n",
    "plt.figure(figsize=(12, 6))\n",
    "sns.lineplot(x='date', y='bias', data=average_bias_by_year, marker='o', color='purple', linewidth=2)\n",
    "\n",
    "# Style the plot\n",
    "plt.title('Average Bias Score Over the Years', fontsize=16)\n",
    "plt.xlabel('Year', fontsize=12)\n",
    "plt.ylabel('Average Bias Score', fontsize=12)\n",
    "plt.xticks(rotation=45, ha='right', fontsize=10)\n",
    "plt.yticks(fontsize=10)\n",
    "plt.grid(axis='y', linestyle='--', alpha=0.7)\n",
    "\n",
    "# Show the plot\n",
    "plt.tight_layout()\n",
    "plt.show()"
   ]
  },
  {
   "cell_type": "code",
   "execution_count": 23,
   "metadata": {},
   "outputs": [],
   "source": [
    "# renaming 'headlines_no_site' to 'headline'\n",
    "headlines_filtered.rename(columns={'headline_no_site': 'headline'}, inplace=True)"
   ]
  },
  {
   "cell_type": "code",
   "execution_count": 24,
   "metadata": {},
   "outputs": [],
   "source": [
    "from nltk.tokenize import word_tokenize\n",
    "from nltk.stem import WordNetLemmatizer\n",
    "import re\n",
    "\n",
    "# Tokenize the headline text\n",
    "headlines_filtered['tokenized_text'] = headlines_filtered['headline'].apply(word_tokenize)\n",
    "\n",
    "# Remove non-alphabetic characters, handle empty strings, and extra spaces\n",
    "headlines_filtered['cleaned_text'] = headlines_filtered['tokenized_text'].apply(lambda tokens: [re.sub(r'[^a-zA-Z0-9]', '', token).strip() for token in tokens if re.sub(r'[^a-zA-Z0-9]', '', token).strip()])\n",
    "\n",
    "# Convert to lowercase\n",
    "headlines_filtered['cleaned_text'] = headlines_filtered['cleaned_text'].apply(lambda tokens: [token.lower() for token in tokens])\n",
    "\n",
    "# Lemmatization\n",
    "lemmatizer = WordNetLemmatizer()\n",
    "headlines_filtered['lemmatized_text'] = headlines_filtered['cleaned_text'].apply(lambda tokens: [lemmatizer.lemmatize(token) for token in tokens])\n"
   ]
  },
  {
   "cell_type": "code",
   "execution_count": 25,
   "metadata": {},
   "outputs": [
    {
     "data": {
      "text/plain": [
       "9207    [mother, and, daughter, reunite, after, 82, year]\n",
       "9208    [hayden, panettiere, happy, to, stand, up, for...\n",
       "9209    [woman, get, trendy, tattoo, to, caution, peop...\n",
       "9210    [timeline, of, alleged, abduction, and, slayin...\n",
       "9211    [unabomber, ted, kaczynski, s, brother, sister...\n",
       "Name: lemmatized_text, dtype: object"
      ]
     },
     "execution_count": 25,
     "metadata": {},
     "output_type": "execute_result"
    }
   ],
   "source": [
    "headlines_filtered['lemmatized_text'].head()"
   ]
  },
  {
   "cell_type": "code",
   "execution_count": 26,
   "metadata": {},
   "outputs": [
    {
     "data": {
      "text/html": [
       "<div>\n",
       "<style scoped>\n",
       "    .dataframe tbody tr th:only-of-type {\n",
       "        vertical-align: middle;\n",
       "    }\n",
       "\n",
       "    .dataframe tbody tr th {\n",
       "        vertical-align: top;\n",
       "    }\n",
       "\n",
       "    .dataframe thead th {\n",
       "        text-align: right;\n",
       "    }\n",
       "</style>\n",
       "<table border=\"1\" class=\"dataframe\">\n",
       "  <thead>\n",
       "    <tr style=\"text-align: right;\">\n",
       "      <th></th>\n",
       "      <th>index</th>\n",
       "      <th>headline</th>\n",
       "      <th>site</th>\n",
       "      <th>country</th>\n",
       "      <th>bias</th>\n",
       "      <th>date</th>\n",
       "      <th>tokenized_text</th>\n",
       "      <th>cleaned_text</th>\n",
       "      <th>lemmatized_text</th>\n",
       "    </tr>\n",
       "  </thead>\n",
       "  <tbody>\n",
       "    <tr>\n",
       "      <th>9207</th>\n",
       "      <td>9207</td>\n",
       "      <td>Mother and Daughter Reunite After 82 Years</td>\n",
       "      <td>abcnews.go.com</td>\n",
       "      <td>USA</td>\n",
       "      <td>0.333333</td>\n",
       "      <td>2016-02-03</td>\n",
       "      <td>[Mother, and, Daughter, Reunite, After, 82, Ye...</td>\n",
       "      <td>[mother, and, daughter, reunite, after, 82, ye...</td>\n",
       "      <td>[mother, and, daughter, reunite, after, 82, year]</td>\n",
       "    </tr>\n",
       "    <tr>\n",
       "      <th>9208</th>\n",
       "      <td>9208</td>\n",
       "      <td>Hayden Panettiere 'Happy' to Stand Up for Wome...</td>\n",
       "      <td>abcnews.go.com</td>\n",
       "      <td>USA</td>\n",
       "      <td>0.166667</td>\n",
       "      <td>2016-01-19</td>\n",
       "      <td>[Hayden, Panettiere, 'Happy, ', to, Stand, Up,...</td>\n",
       "      <td>[hayden, panettiere, happy, to, stand, up, for...</td>\n",
       "      <td>[hayden, panettiere, happy, to, stand, up, for...</td>\n",
       "    </tr>\n",
       "    <tr>\n",
       "      <th>9209</th>\n",
       "      <td>9209</td>\n",
       "      <td>Woman Gets Trendy Tattoo to 'Caution' People S...</td>\n",
       "      <td>abcnews.go.com</td>\n",
       "      <td>USA</td>\n",
       "      <td>0.333333</td>\n",
       "      <td>2016-02-27</td>\n",
       "      <td>[Woman, Gets, Trendy, Tattoo, to, 'Caution, ',...</td>\n",
       "      <td>[woman, gets, trendy, tattoo, to, caution, peo...</td>\n",
       "      <td>[woman, get, trendy, tattoo, to, caution, peop...</td>\n",
       "    </tr>\n",
       "    <tr>\n",
       "      <th>9210</th>\n",
       "      <td>9210</td>\n",
       "      <td>Timeline of Alleged Abduction and Slaying of 1...</td>\n",
       "      <td>abcnews.go.com</td>\n",
       "      <td>USA</td>\n",
       "      <td>0.166667</td>\n",
       "      <td>2016-02-03</td>\n",
       "      <td>[Timeline, of, Alleged, Abduction, and, Slayin...</td>\n",
       "      <td>[timeline, of, alleged, abduction, and, slayin...</td>\n",
       "      <td>[timeline, of, alleged, abduction, and, slayin...</td>\n",
       "    </tr>\n",
       "    <tr>\n",
       "      <th>9211</th>\n",
       "      <td>9211</td>\n",
       "      <td>Unabomber Ted Kaczynski's Brother, Sister in L...</td>\n",
       "      <td>abcnews.go.com</td>\n",
       "      <td>USA</td>\n",
       "      <td>0.166667</td>\n",
       "      <td>2016-02-10</td>\n",
       "      <td>[Unabomber, Ted, Kaczynski, 's, Brother, ,, Si...</td>\n",
       "      <td>[unabomber, ted, kaczynski, s, brother, sister...</td>\n",
       "      <td>[unabomber, ted, kaczynski, s, brother, sister...</td>\n",
       "    </tr>\n",
       "  </tbody>\n",
       "</table>\n",
       "</div>"
      ],
      "text/plain": [
       "      index                                           headline  \\\n",
       "9207   9207         Mother and Daughter Reunite After 82 Years   \n",
       "9208   9208  Hayden Panettiere 'Happy' to Stand Up for Wome...   \n",
       "9209   9209  Woman Gets Trendy Tattoo to 'Caution' People S...   \n",
       "9210   9210  Timeline of Alleged Abduction and Slaying of 1...   \n",
       "9211   9211  Unabomber Ted Kaczynski's Brother, Sister in L...   \n",
       "\n",
       "                site country      bias       date  \\\n",
       "9207  abcnews.go.com     USA  0.333333 2016-02-03   \n",
       "9208  abcnews.go.com     USA  0.166667 2016-01-19   \n",
       "9209  abcnews.go.com     USA  0.333333 2016-02-27   \n",
       "9210  abcnews.go.com     USA  0.166667 2016-02-03   \n",
       "9211  abcnews.go.com     USA  0.166667 2016-02-10   \n",
       "\n",
       "                                         tokenized_text  \\\n",
       "9207  [Mother, and, Daughter, Reunite, After, 82, Ye...   \n",
       "9208  [Hayden, Panettiere, 'Happy, ', to, Stand, Up,...   \n",
       "9209  [Woman, Gets, Trendy, Tattoo, to, 'Caution, ',...   \n",
       "9210  [Timeline, of, Alleged, Abduction, and, Slayin...   \n",
       "9211  [Unabomber, Ted, Kaczynski, 's, Brother, ,, Si...   \n",
       "\n",
       "                                           cleaned_text  \\\n",
       "9207  [mother, and, daughter, reunite, after, 82, ye...   \n",
       "9208  [hayden, panettiere, happy, to, stand, up, for...   \n",
       "9209  [woman, gets, trendy, tattoo, to, caution, peo...   \n",
       "9210  [timeline, of, alleged, abduction, and, slayin...   \n",
       "9211  [unabomber, ted, kaczynski, s, brother, sister...   \n",
       "\n",
       "                                        lemmatized_text  \n",
       "9207  [mother, and, daughter, reunite, after, 82, year]  \n",
       "9208  [hayden, panettiere, happy, to, stand, up, for...  \n",
       "9209  [woman, get, trendy, tattoo, to, caution, peop...  \n",
       "9210  [timeline, of, alleged, abduction, and, slayin...  \n",
       "9211  [unabomber, ted, kaczynski, s, brother, sister...  "
      ]
     },
     "execution_count": 26,
     "metadata": {},
     "output_type": "execute_result"
    }
   ],
   "source": [
    "headlines_filtered.head()"
   ]
  },
  {
   "cell_type": "code",
   "execution_count": 31,
   "metadata": {},
   "outputs": [
    {
     "name": "stderr",
     "output_type": "stream",
     "text": [
      "[nltk_data] Downloading package stopwords to\n",
      "[nltk_data]     /Users/madelinebirch/nltk_data...\n",
      "[nltk_data]   Package stopwords is already up-to-date!\n"
     ]
    }
   ],
   "source": [
    "import nltk\n",
    "from nltk.corpus import stopwords\n",
    "\n",
    "# Download the list of English stop words\n",
    "nltk.download('stopwords')\n",
    "\n",
    "# Get the stop words\n",
    "stop_words = set(stopwords.words('english'))\n",
    "\n",
    "# Remove stop words from the lemmatized_text column\n",
    "headlines_filtered['lemmatized_text_no_stopwords'] = headlines_filtered['lemmatized_text'].apply(lambda tokens: [token for token in tokens if token not in stop_words])\n",
    "\n",
    "# Create a new dataframe with only the relevant columns\n",
    "new_df = headlines_filtered[['bias', 'date', 'lemmatized_text_no_stopwords']].copy()"
   ]
  },
  {
   "cell_type": "code",
   "execution_count": 32,
   "metadata": {},
   "outputs": [
    {
     "data": {
      "text/html": [
       "<div>\n",
       "<style scoped>\n",
       "    .dataframe tbody tr th:only-of-type {\n",
       "        vertical-align: middle;\n",
       "    }\n",
       "\n",
       "    .dataframe tbody tr th {\n",
       "        vertical-align: top;\n",
       "    }\n",
       "\n",
       "    .dataframe thead th {\n",
       "        text-align: right;\n",
       "    }\n",
       "</style>\n",
       "<table border=\"1\" class=\"dataframe\">\n",
       "  <thead>\n",
       "    <tr style=\"text-align: right;\">\n",
       "      <th></th>\n",
       "      <th>bias</th>\n",
       "      <th>date</th>\n",
       "      <th>lemmatized_text_no_stopwords</th>\n",
       "    </tr>\n",
       "  </thead>\n",
       "  <tbody>\n",
       "    <tr>\n",
       "      <th>9207</th>\n",
       "      <td>0.333333</td>\n",
       "      <td>2016-02-03</td>\n",
       "      <td>[mother, daughter, reunite, 82, year]</td>\n",
       "    </tr>\n",
       "    <tr>\n",
       "      <th>9208</th>\n",
       "      <td>0.166667</td>\n",
       "      <td>2016-01-19</td>\n",
       "      <td>[hayden, panettiere, happy, stand, woman, post...</td>\n",
       "    </tr>\n",
       "    <tr>\n",
       "      <th>9209</th>\n",
       "      <td>0.333333</td>\n",
       "      <td>2016-02-27</td>\n",
       "      <td>[woman, get, trendy, tattoo, caution, people, ...</td>\n",
       "    </tr>\n",
       "    <tr>\n",
       "      <th>9210</th>\n",
       "      <td>0.166667</td>\n",
       "      <td>2016-02-03</td>\n",
       "      <td>[timeline, alleged, abduction, slaying, 13, ye...</td>\n",
       "    </tr>\n",
       "    <tr>\n",
       "      <th>9211</th>\n",
       "      <td>0.166667</td>\n",
       "      <td>2016-02-10</td>\n",
       "      <td>[unabomber, ted, kaczynski, brother, sister, l...</td>\n",
       "    </tr>\n",
       "  </tbody>\n",
       "</table>\n",
       "</div>"
      ],
      "text/plain": [
       "          bias       date                       lemmatized_text_no_stopwords\n",
       "9207  0.333333 2016-02-03              [mother, daughter, reunite, 82, year]\n",
       "9208  0.166667 2016-01-19  [hayden, panettiere, happy, stand, woman, post...\n",
       "9209  0.333333 2016-02-27  [woman, get, trendy, tattoo, caution, people, ...\n",
       "9210  0.166667 2016-02-03  [timeline, alleged, abduction, slaying, 13, ye...\n",
       "9211  0.166667 2016-02-10  [unabomber, ted, kaczynski, brother, sister, l..."
      ]
     },
     "execution_count": 32,
     "metadata": {},
     "output_type": "execute_result"
    }
   ],
   "source": [
    "new_df.head()"
   ]
  },
  {
   "cell_type": "code",
   "execution_count": 45,
   "metadata": {},
   "outputs": [],
   "source": [
    "from sklearn.feature_extraction.text import TfidfVectorizer\n",
    "\n",
    "# Join the list of lemmatized words into a single string for each headline\n",
    "headlines_filtered['lemmatized_text_no_stopwords_str'] = headlines_filtered['lemmatized_text_no_stopwords'].apply(lambda tokens: ' '.join(tokens))\n",
    "\n",
    "# Create a TF-IDF vectorizer\n",
    "tfidf_vectorizer = TfidfVectorizer(max_features=1000, stop_words='english')  # Use 'english' directly\n",
    "\n",
    "# Fit and transform the lemmatized_text_no_stopwords_str column\n",
    "tfidf_matrix = tfidf_vectorizer.fit_transform(headlines_filtered['lemmatized_text_no_stopwords_str'])\n",
    "\n",
    "# Convert the TF-IDF matrix to a DataFrame\n",
    "tfidf_df = pd.DataFrame(tfidf_matrix.toarray(), columns=tfidf_vectorizer.get_feature_names_out())\n",
    "\n",
    "# Reset the index on the original dataframe\n",
    "headlines_filtered_reset = headlines_filtered.reset_index(drop=True)\n",
    "\n",
    "# Concatenate the dataframes\n",
    "vectorized_df = pd.concat([headlines_filtered_reset[['bias', 'date']], tfidf_df], axis=1)"
   ]
  },
  {
   "cell_type": "code",
   "execution_count": 46,
   "metadata": {},
   "outputs": [
    {
     "data": {
      "text/html": [
       "<div>\n",
       "<style scoped>\n",
       "    .dataframe tbody tr th:only-of-type {\n",
       "        vertical-align: middle;\n",
       "    }\n",
       "\n",
       "    .dataframe tbody tr th {\n",
       "        vertical-align: top;\n",
       "    }\n",
       "\n",
       "    .dataframe thead th {\n",
       "        text-align: right;\n",
       "    }\n",
       "</style>\n",
       "<table border=\"1\" class=\"dataframe\">\n",
       "  <thead>\n",
       "    <tr style=\"text-align: right;\">\n",
       "      <th></th>\n",
       "      <th>bias</th>\n",
       "      <th>date</th>\n",
       "      <th>10</th>\n",
       "      <th>100</th>\n",
       "      <th>11</th>\n",
       "      <th>12</th>\n",
       "      <th>13</th>\n",
       "      <th>14</th>\n",
       "      <th>15</th>\n",
       "      <th>16</th>\n",
       "      <th>...</th>\n",
       "      <th>worst</th>\n",
       "      <th>worth</th>\n",
       "      <th>writes</th>\n",
       "      <th>wrong</th>\n",
       "      <th>year</th>\n",
       "      <th>york</th>\n",
       "      <th>young</th>\n",
       "      <th>younger</th>\n",
       "      <th>youngest</th>\n",
       "      <th>youtube</th>\n",
       "    </tr>\n",
       "  </thead>\n",
       "  <tbody>\n",
       "    <tr>\n",
       "      <th>0</th>\n",
       "      <td>0.333333</td>\n",
       "      <td>2016-02-03</td>\n",
       "      <td>0.0</td>\n",
       "      <td>0.0</td>\n",
       "      <td>0.0</td>\n",
       "      <td>0.0</td>\n",
       "      <td>0.000000</td>\n",
       "      <td>0.0</td>\n",
       "      <td>0.0</td>\n",
       "      <td>0.0</td>\n",
       "      <td>...</td>\n",
       "      <td>0.0</td>\n",
       "      <td>0.0</td>\n",
       "      <td>0.0</td>\n",
       "      <td>0.0</td>\n",
       "      <td>0.539997</td>\n",
       "      <td>0.0</td>\n",
       "      <td>0.0</td>\n",
       "      <td>0.0</td>\n",
       "      <td>0.0</td>\n",
       "      <td>0.0</td>\n",
       "    </tr>\n",
       "    <tr>\n",
       "      <th>1</th>\n",
       "      <td>0.166667</td>\n",
       "      <td>2016-01-19</td>\n",
       "      <td>0.0</td>\n",
       "      <td>0.0</td>\n",
       "      <td>0.0</td>\n",
       "      <td>0.0</td>\n",
       "      <td>0.000000</td>\n",
       "      <td>0.0</td>\n",
       "      <td>0.0</td>\n",
       "      <td>0.0</td>\n",
       "      <td>...</td>\n",
       "      <td>0.0</td>\n",
       "      <td>0.0</td>\n",
       "      <td>0.0</td>\n",
       "      <td>0.0</td>\n",
       "      <td>0.000000</td>\n",
       "      <td>0.0</td>\n",
       "      <td>0.0</td>\n",
       "      <td>0.0</td>\n",
       "      <td>0.0</td>\n",
       "      <td>0.0</td>\n",
       "    </tr>\n",
       "    <tr>\n",
       "      <th>2</th>\n",
       "      <td>0.333333</td>\n",
       "      <td>2016-02-27</td>\n",
       "      <td>0.0</td>\n",
       "      <td>0.0</td>\n",
       "      <td>0.0</td>\n",
       "      <td>0.0</td>\n",
       "      <td>0.000000</td>\n",
       "      <td>0.0</td>\n",
       "      <td>0.0</td>\n",
       "      <td>0.0</td>\n",
       "      <td>...</td>\n",
       "      <td>0.0</td>\n",
       "      <td>0.0</td>\n",
       "      <td>0.0</td>\n",
       "      <td>0.0</td>\n",
       "      <td>0.000000</td>\n",
       "      <td>0.0</td>\n",
       "      <td>0.0</td>\n",
       "      <td>0.0</td>\n",
       "      <td>0.0</td>\n",
       "      <td>0.0</td>\n",
       "    </tr>\n",
       "    <tr>\n",
       "      <th>3</th>\n",
       "      <td>0.166667</td>\n",
       "      <td>2016-02-03</td>\n",
       "      <td>0.0</td>\n",
       "      <td>0.0</td>\n",
       "      <td>0.0</td>\n",
       "      <td>0.0</td>\n",
       "      <td>0.471588</td>\n",
       "      <td>0.0</td>\n",
       "      <td>0.0</td>\n",
       "      <td>0.0</td>\n",
       "      <td>...</td>\n",
       "      <td>0.0</td>\n",
       "      <td>0.0</td>\n",
       "      <td>0.0</td>\n",
       "      <td>0.0</td>\n",
       "      <td>0.278622</td>\n",
       "      <td>0.0</td>\n",
       "      <td>0.0</td>\n",
       "      <td>0.0</td>\n",
       "      <td>0.0</td>\n",
       "      <td>0.0</td>\n",
       "    </tr>\n",
       "    <tr>\n",
       "      <th>4</th>\n",
       "      <td>0.166667</td>\n",
       "      <td>2016-02-10</td>\n",
       "      <td>0.0</td>\n",
       "      <td>0.0</td>\n",
       "      <td>0.0</td>\n",
       "      <td>0.0</td>\n",
       "      <td>0.000000</td>\n",
       "      <td>0.0</td>\n",
       "      <td>0.0</td>\n",
       "      <td>0.0</td>\n",
       "      <td>...</td>\n",
       "      <td>0.0</td>\n",
       "      <td>0.0</td>\n",
       "      <td>0.0</td>\n",
       "      <td>0.0</td>\n",
       "      <td>0.000000</td>\n",
       "      <td>0.0</td>\n",
       "      <td>0.0</td>\n",
       "      <td>0.0</td>\n",
       "      <td>0.0</td>\n",
       "      <td>0.0</td>\n",
       "    </tr>\n",
       "  </tbody>\n",
       "</table>\n",
       "<p>5 rows × 1002 columns</p>\n",
       "</div>"
      ],
      "text/plain": [
       "       bias       date   10  100   11   12        13   14   15   16  ...  \\\n",
       "0  0.333333 2016-02-03  0.0  0.0  0.0  0.0  0.000000  0.0  0.0  0.0  ...   \n",
       "1  0.166667 2016-01-19  0.0  0.0  0.0  0.0  0.000000  0.0  0.0  0.0  ...   \n",
       "2  0.333333 2016-02-27  0.0  0.0  0.0  0.0  0.000000  0.0  0.0  0.0  ...   \n",
       "3  0.166667 2016-02-03  0.0  0.0  0.0  0.0  0.471588  0.0  0.0  0.0  ...   \n",
       "4  0.166667 2016-02-10  0.0  0.0  0.0  0.0  0.000000  0.0  0.0  0.0  ...   \n",
       "\n",
       "   worst  worth  writes  wrong      year  york  young  younger  youngest  \\\n",
       "0    0.0    0.0     0.0    0.0  0.539997   0.0    0.0      0.0       0.0   \n",
       "1    0.0    0.0     0.0    0.0  0.000000   0.0    0.0      0.0       0.0   \n",
       "2    0.0    0.0     0.0    0.0  0.000000   0.0    0.0      0.0       0.0   \n",
       "3    0.0    0.0     0.0    0.0  0.278622   0.0    0.0      0.0       0.0   \n",
       "4    0.0    0.0     0.0    0.0  0.000000   0.0    0.0      0.0       0.0   \n",
       "\n",
       "   youtube  \n",
       "0      0.0  \n",
       "1      0.0  \n",
       "2      0.0  \n",
       "3      0.0  \n",
       "4      0.0  \n",
       "\n",
       "[5 rows x 1002 columns]"
      ]
     },
     "execution_count": 46,
     "metadata": {},
     "output_type": "execute_result"
    }
   ],
   "source": [
    "vectorized_df.head()"
   ]
  },
  {
   "cell_type": "code",
   "execution_count": 47,
   "metadata": {},
   "outputs": [
    {
     "data": {
      "text/plain": [
       "(117949, 1002)"
      ]
     },
     "execution_count": 47,
     "metadata": {},
     "output_type": "execute_result"
    }
   ],
   "source": [
    "vectorized_df.shape"
   ]
  },
  {
   "cell_type": "code",
   "execution_count": 50,
   "metadata": {},
   "outputs": [],
   "source": [
    "from sklearn.model_selection import train_test_split\n",
    "from sklearn.linear_model import LinearRegression\n",
    "from sklearn.metrics import mean_squared_error, r2_score\n"
   ]
  },
  {
   "cell_type": "code",
   "execution_count": 51,
   "metadata": {},
   "outputs": [],
   "source": [
    "# Split the data into features (X) and target (y)\n",
    "X = vectorized_df.drop(['bias', 'date'], axis=1)  # 'date' is not a feature we want to model\n",
    "y = vectorized_df['bias']\n",
    "\n",
    "# Split the data into training and testing sets\n",
    "X_train, X_test, y_train, y_test = train_test_split(X, y, test_size=0.2, random_state=42)"
   ]
  },
  {
   "cell_type": "code",
   "execution_count": 52,
   "metadata": {},
   "outputs": [
    {
     "name": "stdout",
     "output_type": "stream",
     "text": [
      "Mean Squared Error: 0.008518948382390777\n",
      "R-squared: 0.2518524623038161\n"
     ]
    }
   ],
   "source": [
    "# Initialize the Linear Regression model\n",
    "model = LinearRegression()\n",
    "\n",
    "# Train the model on the training data\n",
    "model.fit(X_train, y_train)\n",
    "\n",
    "# Make predictions on the test set\n",
    "y_pred = model.predict(X_test)\n",
    "\n",
    "# Evaluate the model\n",
    "mse = mean_squared_error(y_test, y_pred)\n",
    "r2 = r2_score(y_test, y_pred)\n",
    "\n",
    "print(f'Mean Squared Error: {mse}')\n",
    "print(f'R-squared: {r2}')\n"
   ]
  },
  {
   "cell_type": "code",
   "execution_count": 53,
   "metadata": {},
   "outputs": [
    {
     "name": "stderr",
     "output_type": "stream",
     "text": [
      "2023-11-17 00:06:39.100224: I tensorflow/core/platform/cpu_feature_guard.cc:182] This TensorFlow binary is optimized to use available CPU instructions in performance-critical operations.\n",
      "To enable the following instructions: AVX2 FMA, in other operations, rebuild TensorFlow with the appropriate compiler flags.\n"
     ]
    },
    {
     "name": "stdout",
     "output_type": "stream",
     "text": [
      "Epoch 1/10\n",
      "2949/2949 [==============================] - 11s 3ms/step - loss: 0.0092 - val_loss: 0.0084\n",
      "Epoch 2/10\n",
      "2949/2949 [==============================] - 9s 3ms/step - loss: 0.0081 - val_loss: 0.0085\n",
      "Epoch 3/10\n",
      "2949/2949 [==============================] - 7s 2ms/step - loss: 0.0074 - val_loss: 0.0087\n",
      "Epoch 4/10\n",
      "2949/2949 [==============================] - 8s 3ms/step - loss: 0.0067 - val_loss: 0.0086\n",
      "Epoch 5/10\n",
      "2949/2949 [==============================] - 10s 3ms/step - loss: 0.0061 - val_loss: 0.0088\n",
      "Epoch 6/10\n",
      "2949/2949 [==============================] - 11s 4ms/step - loss: 0.0056 - val_loss: 0.0091\n",
      "Epoch 7/10\n",
      "2949/2949 [==============================] - 9s 3ms/step - loss: 0.0052 - val_loss: 0.0093\n",
      "Epoch 8/10\n",
      "2949/2949 [==============================] - 9s 3ms/step - loss: 0.0049 - val_loss: 0.0095\n",
      "Epoch 9/10\n",
      "2949/2949 [==============================] - 9s 3ms/step - loss: 0.0046 - val_loss: 0.0098\n",
      "Epoch 10/10\n",
      "2949/2949 [==============================] - 9s 3ms/step - loss: 0.0043 - val_loss: 0.0099\n",
      "738/738 [==============================] - 1s 2ms/step - loss: 0.0099\n",
      "Mean Squared Error on Test Set: 0.009946255944669247\n"
     ]
    }
   ],
   "source": [
    "from keras.models import Sequential\n",
    "from keras.layers import Dense\n",
    "\n",
    "# Define the model\n",
    "model = Sequential()\n",
    "\n",
    "# Input layer\n",
    "model.add(Dense(units=64, input_dim=X_train.shape[1], activation='relu'))\n",
    "\n",
    "# Hidden layer\n",
    "model.add(Dense(units=32, activation='relu'))\n",
    "\n",
    "# Output layer (1 unit for regression)\n",
    "model.add(Dense(units=1, activation='linear'))\n",
    "\n",
    "# Compile the model\n",
    "model.compile(loss='mean_squared_error', optimizer='adam')\n",
    "\n",
    "# Train the model\n",
    "model.fit(X_train, y_train, epochs=10, batch_size=32, validation_data=(X_test, y_test))"
   ]
  },
  {
   "cell_type": "code",
   "execution_count": 56,
   "metadata": {},
   "outputs": [
    {
     "name": "stdout",
     "output_type": "stream",
     "text": [
      "Mean Absolute Error on Test Set: 0.07242335543853423\n",
      "R-squared on Test Set: 0.12650339824289603\n"
     ]
    }
   ],
   "source": [
    "from sklearn.metrics import mean_squared_error, mean_absolute_error, r2_score\n",
    "\n",
    "# Calculate MAE\n",
    "mae = mean_absolute_error(y_test, y_pred)\n",
    "print(f'Mean Absolute Error on Test Set: {mae}')\n",
    "\n",
    "# Calculate R-squared\n",
    "r_squared = r2_score(y_test, y_pred)\n",
    "print(f'R-squared on Test Set: {r_squared}')"
   ]
  },
  {
   "cell_type": "code",
   "execution_count": null,
   "metadata": {},
   "outputs": [],
   "source": []
  }
 ],
 "metadata": {
  "kernelspec": {
   "display_name": "Python 3 (ipykernel)",
   "language": "python",
   "name": "python3"
  },
  "language_info": {
   "codemirror_mode": {
    "name": "ipython",
    "version": 3
   },
   "file_extension": ".py",
   "mimetype": "text/x-python",
   "name": "python",
   "nbconvert_exporter": "python",
   "pygments_lexer": "ipython3",
   "version": "3.8.18"
  }
 },
 "nbformat": 4,
 "nbformat_minor": 4
}
