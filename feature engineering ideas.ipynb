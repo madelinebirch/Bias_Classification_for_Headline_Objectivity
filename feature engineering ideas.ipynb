{
 "cells": [
  {
   "cell_type": "code",
   "execution_count": 1,
   "id": "00c76575",
   "metadata": {},
   "outputs": [],
   "source": [
    "import pandas as pd"
   ]
  },
  {
   "cell_type": "code",
   "execution_count": 2,
   "id": "e13a593b",
   "metadata": {},
   "outputs": [],
   "source": [
    "headlines = pd.read_csv('Data/headlines.csv')"
   ]
  },
  {
   "cell_type": "code",
   "execution_count": 3,
   "id": "f6e0d705",
   "metadata": {},
   "outputs": [
    {
     "data": {
      "text/plain": [
       "(382139, 8)"
      ]
     },
     "execution_count": 3,
     "metadata": {},
     "output_type": "execute_result"
    }
   ],
   "source": [
    "headlines.shape"
   ]
  },
  {
   "cell_type": "code",
   "execution_count": 4,
   "id": "7b48de4a",
   "metadata": {},
   "outputs": [
    {
     "data": {
      "text/html": [
       "<div>\n",
       "<style scoped>\n",
       "    .dataframe tbody tr th:only-of-type {\n",
       "        vertical-align: middle;\n",
       "    }\n",
       "\n",
       "    .dataframe tbody tr th {\n",
       "        vertical-align: top;\n",
       "    }\n",
       "\n",
       "    .dataframe thead th {\n",
       "        text-align: right;\n",
       "    }\n",
       "</style>\n",
       "<table border=\"1\" class=\"dataframe\">\n",
       "  <thead>\n",
       "    <tr style=\"text-align: right;\">\n",
       "      <th></th>\n",
       "      <th>index</th>\n",
       "      <th>Unnamed: 0</th>\n",
       "      <th>url</th>\n",
       "      <th>headline_no_site</th>\n",
       "      <th>site</th>\n",
       "      <th>time</th>\n",
       "      <th>country</th>\n",
       "      <th>bias</th>\n",
       "    </tr>\n",
       "  </thead>\n",
       "  <tbody>\n",
       "    <tr>\n",
       "      <th>0</th>\n",
       "      <td>0</td>\n",
       "      <td>0</td>\n",
       "      <td>https://www.iol.co.za/entertainment/movies-the...</td>\n",
       "      <td>'Lady Bird' buzzes through young sexuality</td>\n",
       "      <td>iol.co.za</td>\n",
       "      <td>2018-02-23 08:00:00+00:00</td>\n",
       "      <td>South Africa</td>\n",
       "      <td>0.000000</td>\n",
       "    </tr>\n",
       "    <tr>\n",
       "      <th>1</th>\n",
       "      <td>1</td>\n",
       "      <td>1</td>\n",
       "      <td>https://www.iol.co.za/entertainment/music/the-...</td>\n",
       "      <td>The shadowy urban POP super Starrah who loves ...</td>\n",
       "      <td>iol.co.za</td>\n",
       "      <td>2018-01-10 08:00:00+00:00</td>\n",
       "      <td>South Africa</td>\n",
       "      <td>0.166667</td>\n",
       "    </tr>\n",
       "    <tr>\n",
       "      <th>2</th>\n",
       "      <td>2</td>\n",
       "      <td>2</td>\n",
       "      <td>https://www.iol.co.za/entertainment/celebrity-...</td>\n",
       "      <td>Rihanna pens heartfelt tribute to her mom in b...</td>\n",
       "      <td>iol.co.za</td>\n",
       "      <td>2018-02-21 08:00:00+00:00</td>\n",
       "      <td>South Africa</td>\n",
       "      <td>0.333333</td>\n",
       "    </tr>\n",
       "    <tr>\n",
       "      <th>3</th>\n",
       "      <td>3</td>\n",
       "      <td>3</td>\n",
       "      <td>https://www.iol.co.za/news/south-africa/wester...</td>\n",
       "      <td>Shock as woman accused of killing teen girlfri...</td>\n",
       "      <td>iol.co.za</td>\n",
       "      <td>2018-02-27 08:00:00+00:00</td>\n",
       "      <td>South Africa</td>\n",
       "      <td>0.333333</td>\n",
       "    </tr>\n",
       "    <tr>\n",
       "      <th>4</th>\n",
       "      <td>4</td>\n",
       "      <td>4</td>\n",
       "      <td>https://www.iol.co.za/business-report/careers/...</td>\n",
       "      <td>TOP STORY: Meet South Africa's new first lady ...</td>\n",
       "      <td>iol.co.za</td>\n",
       "      <td>2018-02-15 08:00:00+00:00</td>\n",
       "      <td>South Africa</td>\n",
       "      <td>0.166667</td>\n",
       "    </tr>\n",
       "  </tbody>\n",
       "</table>\n",
       "</div>"
      ],
      "text/plain": [
       "   index  Unnamed: 0                                                url  \\\n",
       "0      0           0  https://www.iol.co.za/entertainment/movies-the...   \n",
       "1      1           1  https://www.iol.co.za/entertainment/music/the-...   \n",
       "2      2           2  https://www.iol.co.za/entertainment/celebrity-...   \n",
       "3      3           3  https://www.iol.co.za/news/south-africa/wester...   \n",
       "4      4           4  https://www.iol.co.za/business-report/careers/...   \n",
       "\n",
       "                                    headline_no_site       site  \\\n",
       "0         'Lady Bird' buzzes through young sexuality  iol.co.za   \n",
       "1  The shadowy urban POP super Starrah who loves ...  iol.co.za   \n",
       "2  Rihanna pens heartfelt tribute to her mom in b...  iol.co.za   \n",
       "3  Shock as woman accused of killing teen girlfri...  iol.co.za   \n",
       "4  TOP STORY: Meet South Africa's new first lady ...  iol.co.za   \n",
       "\n",
       "                        time       country      bias  \n",
       "0  2018-02-23 08:00:00+00:00  South Africa  0.000000  \n",
       "1  2018-01-10 08:00:00+00:00  South Africa  0.166667  \n",
       "2  2018-02-21 08:00:00+00:00  South Africa  0.333333  \n",
       "3  2018-02-27 08:00:00+00:00  South Africa  0.333333  \n",
       "4  2018-02-15 08:00:00+00:00  South Africa  0.166667  "
      ]
     },
     "execution_count": 4,
     "metadata": {},
     "output_type": "execute_result"
    }
   ],
   "source": [
    "headlines.head()"
   ]
  },
  {
   "cell_type": "code",
   "execution_count": 5,
   "id": "5ef98530",
   "metadata": {},
   "outputs": [
    {
     "data": {
      "text/plain": [
       "index               0\n",
       "Unnamed: 0          0\n",
       "url                 0\n",
       "headline_no_site    0\n",
       "site                0\n",
       "time                0\n",
       "country             0\n",
       "bias                0\n",
       "dtype: int64"
      ]
     },
     "execution_count": 5,
     "metadata": {},
     "output_type": "execute_result"
    }
   ],
   "source": [
    "headlines.isnull().sum()"
   ]
  },
  {
   "cell_type": "code",
   "execution_count": 6,
   "id": "f9ee2608",
   "metadata": {},
   "outputs": [
    {
     "data": {
      "text/html": [
       "<div>\n",
       "<style scoped>\n",
       "    .dataframe tbody tr th:only-of-type {\n",
       "        vertical-align: middle;\n",
       "    }\n",
       "\n",
       "    .dataframe tbody tr th {\n",
       "        vertical-align: top;\n",
       "    }\n",
       "\n",
       "    .dataframe thead th {\n",
       "        text-align: right;\n",
       "    }\n",
       "</style>\n",
       "<table border=\"1\" class=\"dataframe\">\n",
       "  <thead>\n",
       "    <tr style=\"text-align: right;\">\n",
       "      <th></th>\n",
       "      <th>index</th>\n",
       "      <th>Unnamed: 0</th>\n",
       "      <th>bias</th>\n",
       "    </tr>\n",
       "  </thead>\n",
       "  <tbody>\n",
       "    <tr>\n",
       "      <th>count</th>\n",
       "      <td>382139.000000</td>\n",
       "      <td>382139.000000</td>\n",
       "      <td>382139.000000</td>\n",
       "    </tr>\n",
       "    <tr>\n",
       "      <th>mean</th>\n",
       "      <td>191069.000000</td>\n",
       "      <td>191069.000000</td>\n",
       "      <td>0.171057</td>\n",
       "    </tr>\n",
       "    <tr>\n",
       "      <th>std</th>\n",
       "      <td>110314.171596</td>\n",
       "      <td>110314.171596</td>\n",
       "      <td>0.101210</td>\n",
       "    </tr>\n",
       "    <tr>\n",
       "      <th>min</th>\n",
       "      <td>0.000000</td>\n",
       "      <td>0.000000</td>\n",
       "      <td>0.000000</td>\n",
       "    </tr>\n",
       "    <tr>\n",
       "      <th>25%</th>\n",
       "      <td>95534.500000</td>\n",
       "      <td>95534.500000</td>\n",
       "      <td>0.166667</td>\n",
       "    </tr>\n",
       "    <tr>\n",
       "      <th>50%</th>\n",
       "      <td>191069.000000</td>\n",
       "      <td>191069.000000</td>\n",
       "      <td>0.166667</td>\n",
       "    </tr>\n",
       "    <tr>\n",
       "      <th>75%</th>\n",
       "      <td>286603.500000</td>\n",
       "      <td>286603.500000</td>\n",
       "      <td>0.166667</td>\n",
       "    </tr>\n",
       "    <tr>\n",
       "      <th>max</th>\n",
       "      <td>382138.000000</td>\n",
       "      <td>382138.000000</td>\n",
       "      <td>1.000000</td>\n",
       "    </tr>\n",
       "  </tbody>\n",
       "</table>\n",
       "</div>"
      ],
      "text/plain": [
       "               index     Unnamed: 0           bias\n",
       "count  382139.000000  382139.000000  382139.000000\n",
       "mean   191069.000000  191069.000000       0.171057\n",
       "std    110314.171596  110314.171596       0.101210\n",
       "min         0.000000       0.000000       0.000000\n",
       "25%     95534.500000   95534.500000       0.166667\n",
       "50%    191069.000000  191069.000000       0.166667\n",
       "75%    286603.500000  286603.500000       0.166667\n",
       "max    382138.000000  382138.000000       1.000000"
      ]
     },
     "execution_count": 6,
     "metadata": {},
     "output_type": "execute_result"
    }
   ],
   "source": [
    "headlines.describe()"
   ]
  },
  {
   "cell_type": "code",
   "execution_count": 7,
   "id": "e460c4c5",
   "metadata": {},
   "outputs": [
    {
     "data": {
      "text/html": [
       "<div>\n",
       "<style scoped>\n",
       "    .dataframe tbody tr th:only-of-type {\n",
       "        vertical-align: middle;\n",
       "    }\n",
       "\n",
       "    .dataframe tbody tr th {\n",
       "        vertical-align: top;\n",
       "    }\n",
       "\n",
       "    .dataframe thead th {\n",
       "        text-align: right;\n",
       "    }\n",
       "</style>\n",
       "<table border=\"1\" class=\"dataframe\">\n",
       "  <thead>\n",
       "    <tr style=\"text-align: right;\">\n",
       "      <th></th>\n",
       "      <th>headline_no_site</th>\n",
       "      <th>site</th>\n",
       "      <th>time</th>\n",
       "      <th>country</th>\n",
       "      <th>bias</th>\n",
       "    </tr>\n",
       "  </thead>\n",
       "  <tbody>\n",
       "    <tr>\n",
       "      <th>0</th>\n",
       "      <td>'Lady Bird' buzzes through young sexuality</td>\n",
       "      <td>iol.co.za</td>\n",
       "      <td>2018-02-23 08:00:00+00:00</td>\n",
       "      <td>South Africa</td>\n",
       "      <td>0.000000</td>\n",
       "    </tr>\n",
       "    <tr>\n",
       "      <th>1</th>\n",
       "      <td>The shadowy urban POP super Starrah who loves ...</td>\n",
       "      <td>iol.co.za</td>\n",
       "      <td>2018-01-10 08:00:00+00:00</td>\n",
       "      <td>South Africa</td>\n",
       "      <td>0.166667</td>\n",
       "    </tr>\n",
       "    <tr>\n",
       "      <th>2</th>\n",
       "      <td>Rihanna pens heartfelt tribute to her mom in b...</td>\n",
       "      <td>iol.co.za</td>\n",
       "      <td>2018-02-21 08:00:00+00:00</td>\n",
       "      <td>South Africa</td>\n",
       "      <td>0.333333</td>\n",
       "    </tr>\n",
       "    <tr>\n",
       "      <th>3</th>\n",
       "      <td>Shock as woman accused of killing teen girlfri...</td>\n",
       "      <td>iol.co.za</td>\n",
       "      <td>2018-02-27 08:00:00+00:00</td>\n",
       "      <td>South Africa</td>\n",
       "      <td>0.333333</td>\n",
       "    </tr>\n",
       "    <tr>\n",
       "      <th>4</th>\n",
       "      <td>TOP STORY: Meet South Africa's new first lady ...</td>\n",
       "      <td>iol.co.za</td>\n",
       "      <td>2018-02-15 08:00:00+00:00</td>\n",
       "      <td>South Africa</td>\n",
       "      <td>0.166667</td>\n",
       "    </tr>\n",
       "  </tbody>\n",
       "</table>\n",
       "</div>"
      ],
      "text/plain": [
       "                                    headline_no_site       site  \\\n",
       "0         'Lady Bird' buzzes through young sexuality  iol.co.za   \n",
       "1  The shadowy urban POP super Starrah who loves ...  iol.co.za   \n",
       "2  Rihanna pens heartfelt tribute to her mom in b...  iol.co.za   \n",
       "3  Shock as woman accused of killing teen girlfri...  iol.co.za   \n",
       "4  TOP STORY: Meet South Africa's new first lady ...  iol.co.za   \n",
       "\n",
       "                        time       country      bias  \n",
       "0  2018-02-23 08:00:00+00:00  South Africa  0.000000  \n",
       "1  2018-01-10 08:00:00+00:00  South Africa  0.166667  \n",
       "2  2018-02-21 08:00:00+00:00  South Africa  0.333333  \n",
       "3  2018-02-27 08:00:00+00:00  South Africa  0.333333  \n",
       "4  2018-02-15 08:00:00+00:00  South Africa  0.166667  "
      ]
     },
     "execution_count": 7,
     "metadata": {},
     "output_type": "execute_result"
    }
   ],
   "source": [
    "headlines.drop(['Unnamed: 0', 'url', 'index'], axis=1, inplace=True)\n",
    "headlines.head()"
   ]
  },
  {
   "cell_type": "code",
   "execution_count": 8,
   "id": "d14c85c3",
   "metadata": {},
   "outputs": [
    {
     "data": {
      "text/plain": [
       "site\n",
       "dailymail.co.uk        8219\n",
       "telegraph.co.uk        7596\n",
       "abcnews.go.com         6305\n",
       "indiatimes.com         6269\n",
       "mirror.co.uk           6207\n",
       "washingtonpost.com     6143\n",
       "nytimes.com            6032\n",
       "independent.co.uk      5983\n",
       "nydailynews.com        5929\n",
       "express.co.uk          5919\n",
       "eonline.com            5826\n",
       "usmagazine.com         5582\n",
       "metro.co.uk            5538\n",
       "dnaindia.com           5372\n",
       "forbes.com             5297\n",
       "usatoday.com           5239\n",
       "standard.co.uk         5207\n",
       "people.com             5125\n",
       "businessinsider.com    5117\n",
       "nypost.com             5044\n",
       "Name: count, dtype: int64"
      ]
     },
     "execution_count": 8,
     "metadata": {},
     "output_type": "execute_result"
    }
   ],
   "source": [
    "# Assuming 'headlines' is the name of your dataframe\n",
    "min_headlines_threshold = 5000\n",
    "top_sites = headlines['site'].value_counts()\n",
    "top_sites = top_sites[top_sites >= min_headlines_threshold].index\n",
    "\n",
    "# Create a new dataframe with only the sites with at least 5000 headlines\n",
    "headlines_filtered = headlines[headlines['site'].isin(top_sites)].copy()\n",
    "\n",
    "# Display the value counts for the new dataframe\n",
    "headlines_filtered['site'].value_counts()\n"
   ]
  },
  {
   "cell_type": "code",
   "execution_count": 9,
   "id": "6e398027",
   "metadata": {},
   "outputs": [
    {
     "data": {
      "text/html": [
       "<div>\n",
       "<style scoped>\n",
       "    .dataframe tbody tr th:only-of-type {\n",
       "        vertical-align: middle;\n",
       "    }\n",
       "\n",
       "    .dataframe tbody tr th {\n",
       "        vertical-align: top;\n",
       "    }\n",
       "\n",
       "    .dataframe thead th {\n",
       "        text-align: right;\n",
       "    }\n",
       "</style>\n",
       "<table border=\"1\" class=\"dataframe\">\n",
       "  <thead>\n",
       "    <tr style=\"text-align: right;\">\n",
       "      <th></th>\n",
       "      <th>headline_no_site</th>\n",
       "      <th>site</th>\n",
       "      <th>time</th>\n",
       "      <th>country</th>\n",
       "      <th>bias</th>\n",
       "    </tr>\n",
       "  </thead>\n",
       "  <tbody>\n",
       "    <tr>\n",
       "      <th>9207</th>\n",
       "      <td>Mother and Daughter Reunite After 82 Years</td>\n",
       "      <td>abcnews.go.com</td>\n",
       "      <td>2016-02-03 08:00:00+00:00</td>\n",
       "      <td>USA</td>\n",
       "      <td>0.333333</td>\n",
       "    </tr>\n",
       "    <tr>\n",
       "      <th>9208</th>\n",
       "      <td>Hayden Panettiere 'Happy' to Stand Up for Wome...</td>\n",
       "      <td>abcnews.go.com</td>\n",
       "      <td>2016-01-19 08:00:00+00:00</td>\n",
       "      <td>USA</td>\n",
       "      <td>0.166667</td>\n",
       "    </tr>\n",
       "    <tr>\n",
       "      <th>9209</th>\n",
       "      <td>Woman Gets Trendy Tattoo to 'Caution' People S...</td>\n",
       "      <td>abcnews.go.com</td>\n",
       "      <td>2016-02-27 08:00:00+00:00</td>\n",
       "      <td>USA</td>\n",
       "      <td>0.333333</td>\n",
       "    </tr>\n",
       "    <tr>\n",
       "      <th>9210</th>\n",
       "      <td>Timeline of Alleged Abduction and Slaying of 1...</td>\n",
       "      <td>abcnews.go.com</td>\n",
       "      <td>2016-02-03 08:00:00+00:00</td>\n",
       "      <td>USA</td>\n",
       "      <td>0.166667</td>\n",
       "    </tr>\n",
       "    <tr>\n",
       "      <th>9211</th>\n",
       "      <td>Unabomber Ted Kaczynski's Brother, Sister in L...</td>\n",
       "      <td>abcnews.go.com</td>\n",
       "      <td>2016-02-10 08:00:00+00:00</td>\n",
       "      <td>USA</td>\n",
       "      <td>0.166667</td>\n",
       "    </tr>\n",
       "  </tbody>\n",
       "</table>\n",
       "</div>"
      ],
      "text/plain": [
       "                                       headline_no_site            site  \\\n",
       "9207         Mother and Daughter Reunite After 82 Years  abcnews.go.com   \n",
       "9208  Hayden Panettiere 'Happy' to Stand Up for Wome...  abcnews.go.com   \n",
       "9209  Woman Gets Trendy Tattoo to 'Caution' People S...  abcnews.go.com   \n",
       "9210  Timeline of Alleged Abduction and Slaying of 1...  abcnews.go.com   \n",
       "9211  Unabomber Ted Kaczynski's Brother, Sister in L...  abcnews.go.com   \n",
       "\n",
       "                           time country      bias  \n",
       "9207  2016-02-03 08:00:00+00:00     USA  0.333333  \n",
       "9208  2016-01-19 08:00:00+00:00     USA  0.166667  \n",
       "9209  2016-02-27 08:00:00+00:00     USA  0.333333  \n",
       "9210  2016-02-03 08:00:00+00:00     USA  0.166667  \n",
       "9211  2016-02-10 08:00:00+00:00     USA  0.166667  "
      ]
     },
     "execution_count": 9,
     "metadata": {},
     "output_type": "execute_result"
    }
   ],
   "source": [
    "headlines_filtered.head()"
   ]
  },
  {
   "cell_type": "code",
   "execution_count": 10,
   "id": "46d40b3e",
   "metadata": {},
   "outputs": [
    {
     "data": {
      "text/plain": [
       "(117949, 5)"
      ]
     },
     "execution_count": 10,
     "metadata": {},
     "output_type": "execute_result"
    }
   ],
   "source": [
    "headlines_filtered.shape"
   ]
  },
  {
   "cell_type": "markdown",
   "id": "3e905dc6",
   "metadata": {},
   "source": [
    "feature engineering"
   ]
  },
  {
   "cell_type": "code",
   "execution_count": 11,
   "id": "09bdb965",
   "metadata": {},
   "outputs": [],
   "source": [
    "# Assuming 'headlines' is your DataFrame\n",
    "headlines_filtered['Word_Count'] = headlines_filtered['headline_no_site'].apply(lambda x: len(x.split()))"
   ]
  },
  {
   "cell_type": "code",
   "execution_count": 12,
   "id": "9fc1089f",
   "metadata": {},
   "outputs": [],
   "source": [
    "from textblob import TextBlob\n",
    "\n",
    "# Assuming 'headlines' is your DataFrame\n",
    "headlines_filtered['Sentiment_Polarity'] = headlines_filtered['headline_no_site'].apply(lambda x: TextBlob(x).sentiment.polarity)"
   ]
  },
  {
   "cell_type": "code",
   "execution_count": 13,
   "id": "ccb08343",
   "metadata": {},
   "outputs": [],
   "source": [
    "headlines_filtered['Text_Length'] = headlines_filtered['headline_no_site'].apply(len)"
   ]
  },
  {
   "cell_type": "code",
   "execution_count": 14,
   "id": "60afe050",
   "metadata": {},
   "outputs": [],
   "source": [
    "headlines_filtered['Avg_Word_Length'] = headlines_filtered['Text_Length'] / headlines_filtered['Word_Count']"
   ]
  },
  {
   "cell_type": "code",
   "execution_count": 15,
   "id": "ee5e3542",
   "metadata": {},
   "outputs": [],
   "source": [
    "import datetime"
   ]
  },
  {
   "cell_type": "code",
   "execution_count": 16,
   "id": "ab423af2",
   "metadata": {},
   "outputs": [],
   "source": [
    "# Date Features\n",
    "headlines_filtered['Day_of_Week'] = pd.to_datetime(headlines_filtered['time']).dt.day_name()\n",
    "headlines_filtered['Month'] = pd.to_datetime(headlines_filtered['time']).dt.month"
   ]
  },
  {
   "cell_type": "code",
   "execution_count": 17,
   "id": "4b5d1936",
   "metadata": {},
   "outputs": [],
   "source": [
    "# Time feature\n",
    "headlines_filtered['Hour_of_Day'] = pd.to_datetime(headlines_filtered['time']).dt.hour"
   ]
  },
  {
   "cell_type": "code",
   "execution_count": 18,
   "id": "58b90e92",
   "metadata": {},
   "outputs": [
    {
     "data": {
      "text/html": [
       "<div>\n",
       "<style scoped>\n",
       "    .dataframe tbody tr th:only-of-type {\n",
       "        vertical-align: middle;\n",
       "    }\n",
       "\n",
       "    .dataframe tbody tr th {\n",
       "        vertical-align: top;\n",
       "    }\n",
       "\n",
       "    .dataframe thead th {\n",
       "        text-align: right;\n",
       "    }\n",
       "</style>\n",
       "<table border=\"1\" class=\"dataframe\">\n",
       "  <thead>\n",
       "    <tr style=\"text-align: right;\">\n",
       "      <th></th>\n",
       "      <th>headline_no_site</th>\n",
       "      <th>site</th>\n",
       "      <th>time</th>\n",
       "      <th>country</th>\n",
       "      <th>bias</th>\n",
       "      <th>Word_Count</th>\n",
       "      <th>Sentiment_Polarity</th>\n",
       "      <th>Text_Length</th>\n",
       "      <th>Avg_Word_Length</th>\n",
       "      <th>Day_of_Week</th>\n",
       "      <th>Month</th>\n",
       "      <th>Hour_of_Day</th>\n",
       "    </tr>\n",
       "  </thead>\n",
       "  <tbody>\n",
       "    <tr>\n",
       "      <th>9207</th>\n",
       "      <td>Mother and Daughter Reunite After 82 Years</td>\n",
       "      <td>abcnews.go.com</td>\n",
       "      <td>2016-02-03 08:00:00+00:00</td>\n",
       "      <td>USA</td>\n",
       "      <td>0.333333</td>\n",
       "      <td>7</td>\n",
       "      <td>0.0</td>\n",
       "      <td>42</td>\n",
       "      <td>6.000000</td>\n",
       "      <td>Wednesday</td>\n",
       "      <td>2</td>\n",
       "      <td>8</td>\n",
       "    </tr>\n",
       "    <tr>\n",
       "      <th>9208</th>\n",
       "      <td>Hayden Panettiere 'Happy' to Stand Up for Wome...</td>\n",
       "      <td>abcnews.go.com</td>\n",
       "      <td>2016-01-19 08:00:00+00:00</td>\n",
       "      <td>USA</td>\n",
       "      <td>0.166667</td>\n",
       "      <td>11</td>\n",
       "      <td>0.8</td>\n",
       "      <td>74</td>\n",
       "      <td>6.727273</td>\n",
       "      <td>Tuesday</td>\n",
       "      <td>1</td>\n",
       "      <td>8</td>\n",
       "    </tr>\n",
       "    <tr>\n",
       "      <th>9209</th>\n",
       "      <td>Woman Gets Trendy Tattoo to 'Caution' People S...</td>\n",
       "      <td>abcnews.go.com</td>\n",
       "      <td>2016-02-27 08:00:00+00:00</td>\n",
       "      <td>USA</td>\n",
       "      <td>0.333333</td>\n",
       "      <td>12</td>\n",
       "      <td>0.6</td>\n",
       "      <td>66</td>\n",
       "      <td>5.500000</td>\n",
       "      <td>Saturday</td>\n",
       "      <td>2</td>\n",
       "      <td>8</td>\n",
       "    </tr>\n",
       "    <tr>\n",
       "      <th>9210</th>\n",
       "      <td>Timeline of Alleged Abduction and Slaying of 1...</td>\n",
       "      <td>abcnews.go.com</td>\n",
       "      <td>2016-02-03 08:00:00+00:00</td>\n",
       "      <td>USA</td>\n",
       "      <td>0.166667</td>\n",
       "      <td>12</td>\n",
       "      <td>0.0</td>\n",
       "      <td>70</td>\n",
       "      <td>5.833333</td>\n",
       "      <td>Wednesday</td>\n",
       "      <td>2</td>\n",
       "      <td>8</td>\n",
       "    </tr>\n",
       "    <tr>\n",
       "      <th>9211</th>\n",
       "      <td>Unabomber Ted Kaczynski's Brother, Sister in L...</td>\n",
       "      <td>abcnews.go.com</td>\n",
       "      <td>2016-02-10 08:00:00+00:00</td>\n",
       "      <td>USA</td>\n",
       "      <td>0.166667</td>\n",
       "      <td>13</td>\n",
       "      <td>0.0</td>\n",
       "      <td>77</td>\n",
       "      <td>5.923077</td>\n",
       "      <td>Wednesday</td>\n",
       "      <td>2</td>\n",
       "      <td>8</td>\n",
       "    </tr>\n",
       "  </tbody>\n",
       "</table>\n",
       "</div>"
      ],
      "text/plain": [
       "                                       headline_no_site            site  \\\n",
       "9207         Mother and Daughter Reunite After 82 Years  abcnews.go.com   \n",
       "9208  Hayden Panettiere 'Happy' to Stand Up for Wome...  abcnews.go.com   \n",
       "9209  Woman Gets Trendy Tattoo to 'Caution' People S...  abcnews.go.com   \n",
       "9210  Timeline of Alleged Abduction and Slaying of 1...  abcnews.go.com   \n",
       "9211  Unabomber Ted Kaczynski's Brother, Sister in L...  abcnews.go.com   \n",
       "\n",
       "                           time country      bias  Word_Count  \\\n",
       "9207  2016-02-03 08:00:00+00:00     USA  0.333333           7   \n",
       "9208  2016-01-19 08:00:00+00:00     USA  0.166667          11   \n",
       "9209  2016-02-27 08:00:00+00:00     USA  0.333333          12   \n",
       "9210  2016-02-03 08:00:00+00:00     USA  0.166667          12   \n",
       "9211  2016-02-10 08:00:00+00:00     USA  0.166667          13   \n",
       "\n",
       "      Sentiment_Polarity  Text_Length  Avg_Word_Length Day_of_Week  Month  \\\n",
       "9207                 0.0           42         6.000000   Wednesday      2   \n",
       "9208                 0.8           74         6.727273     Tuesday      1   \n",
       "9209                 0.6           66         5.500000    Saturday      2   \n",
       "9210                 0.0           70         5.833333   Wednesday      2   \n",
       "9211                 0.0           77         5.923077   Wednesday      2   \n",
       "\n",
       "      Hour_of_Day  \n",
       "9207            8  \n",
       "9208            8  \n",
       "9209            8  \n",
       "9210            8  \n",
       "9211            8  "
      ]
     },
     "execution_count": 18,
     "metadata": {},
     "output_type": "execute_result"
    }
   ],
   "source": [
    "headlines_filtered.head()"
   ]
  },
  {
   "cell_type": "code",
   "execution_count": 19,
   "id": "7d48b684",
   "metadata": {},
   "outputs": [
    {
     "data": {
      "text/plain": [
       "(117949, 12)"
      ]
     },
     "execution_count": 19,
     "metadata": {},
     "output_type": "execute_result"
    }
   ],
   "source": [
    "headlines_filtered.shape"
   ]
  },
  {
   "cell_type": "code",
   "execution_count": 20,
   "id": "31f51dc0",
   "metadata": {},
   "outputs": [
    {
     "data": {
      "image/png": "[encoded data removed]",
      "text/plain": [
       "<Figure size 800x800 with 1 Axes>"
      ]
     },
     "metadata": {},
     "output_type": "display_data"
    }
   ],
   "source": [
    "import matplotlib.pyplot as plt\n",
    "import seaborn as sns\n",
    "\n",
    "# Assuming 'headlines_filtered' is the name of your dataframe\n",
    "top_10_sites = headlines_filtered['site'].value_counts().nlargest(10)\n",
    "\n",
    "# Create a pie chart\n",
    "plt.figure(figsize=(8, 8))\n",
    "plt.pie(top_10_sites, labels=top_10_sites.index, autopct='%1.1f%%', colors=sns.color_palette('viridis'), startangle=90)\n",
    "plt.title('Top 10 News Sources Distribution')\n",
    "plt.tight_layout()\n",
    "\n",
    "# Show the plot\n",
    "plt.show()"
   ]
  },
  {
   "cell_type": "code",
   "execution_count": 21,
   "id": "f6a541a0",
   "metadata": {},
   "outputs": [
    {
     "ename": "KeyError",
     "evalue": "'date'",
     "output_type": "error",
     "traceback": [
      "\u001b[0;31m---------------------------------------------------------------------------\u001b[0m",
      "\u001b[0;31mKeyError\u001b[0m                                  Traceback (most recent call last)",
      "File \u001b[0;32m/opt/anaconda3/envs/my-new-env/lib/python3.8/site-packages/pandas/core/indexes/base.py:3653\u001b[0m, in \u001b[0;36mIndex.get_loc\u001b[0;34m(self, key)\u001b[0m\n\u001b[1;32m   3652\u001b[0m \u001b[38;5;28;01mtry\u001b[39;00m:\n\u001b[0;32m-> 3653\u001b[0m     \u001b[38;5;28;01mreturn\u001b[39;00m \u001b[38;5;28;43mself\u001b[39;49m\u001b[38;5;241;43m.\u001b[39;49m\u001b[43m_engine\u001b[49m\u001b[38;5;241;43m.\u001b[39;49m\u001b[43mget_loc\u001b[49m\u001b[43m(\u001b[49m\u001b[43mcasted_key\u001b[49m\u001b[43m)\u001b[49m\n\u001b[1;32m   3654\u001b[0m \u001b[38;5;28;01mexcept\u001b[39;00m \u001b[38;5;167;01mKeyError\u001b[39;00m \u001b[38;5;28;01mas\u001b[39;00m err:\n",
      "File \u001b[0;32m/opt/anaconda3/envs/my-new-env/lib/python3.8/site-packages/pandas/_libs/index.pyx:147\u001b[0m, in \u001b[0;36mpandas._libs.index.IndexEngine.get_loc\u001b[0;34m()\u001b[0m\n",
      "File \u001b[0;32m/opt/anaconda3/envs/my-new-env/lib/python3.8/site-packages/pandas/_libs/index.pyx:176\u001b[0m, in \u001b[0;36mpandas._libs.index.IndexEngine.get_loc\u001b[0;34m()\u001b[0m\n",
      "File \u001b[0;32mpandas/_libs/hashtable_class_helper.pxi:7080\u001b[0m, in \u001b[0;36mpandas._libs.hashtable.PyObjectHashTable.get_item\u001b[0;34m()\u001b[0m\n",
      "File \u001b[0;32mpandas/_libs/hashtable_class_helper.pxi:7088\u001b[0m, in \u001b[0;36mpandas._libs.hashtable.PyObjectHashTable.get_item\u001b[0;34m()\u001b[0m\n",
      "\u001b[0;31mKeyError\u001b[0m: 'date'",
      "\nThe above exception was the direct cause of the following exception:\n",
      "\u001b[0;31mKeyError\u001b[0m                                  Traceback (most recent call last)",
      "Cell \u001b[0;32mIn[21], line 6\u001b[0m\n\u001b[1;32m      2\u001b[0m sns\u001b[38;5;241m.\u001b[39mset(style\u001b[38;5;241m=\u001b[39m\u001b[38;5;124m\"\u001b[39m\u001b[38;5;124mwhitegrid\u001b[39m\u001b[38;5;124m\"\u001b[39m)\n\u001b[1;32m      4\u001b[0m \u001b[38;5;66;03m# Assuming 'headlines_filtered' is the name of your dataframe\u001b[39;00m\n\u001b[1;32m      5\u001b[0m \u001b[38;5;66;03m# Convert 'date' column to datetime format if not already\u001b[39;00m\n\u001b[0;32m----> 6\u001b[0m headlines_filtered[\u001b[38;5;124m'\u001b[39m\u001b[38;5;124mdate\u001b[39m\u001b[38;5;124m'\u001b[39m] \u001b[38;5;241m=\u001b[39m pd\u001b[38;5;241m.\u001b[39mto_datetime(\u001b[43mheadlines_filtered\u001b[49m\u001b[43m[\u001b[49m\u001b[38;5;124;43m'\u001b[39;49m\u001b[38;5;124;43mdate\u001b[39;49m\u001b[38;5;124;43m'\u001b[39;49m\u001b[43m]\u001b[49m)\n\u001b[1;32m      8\u001b[0m \u001b[38;5;66;03m# Group by year and calculate the average bias score\u001b[39;00m\n\u001b[1;32m      9\u001b[0m average_bias_by_year \u001b[38;5;241m=\u001b[39m headlines_filtered\u001b[38;5;241m.\u001b[39mgroupby(headlines_filtered[\u001b[38;5;124m'\u001b[39m\u001b[38;5;124mdate\u001b[39m\u001b[38;5;124m'\u001b[39m]\u001b[38;5;241m.\u001b[39mdt\u001b[38;5;241m.\u001b[39myear)[\u001b[38;5;124m'\u001b[39m\u001b[38;5;124mbias\u001b[39m\u001b[38;5;124m'\u001b[39m]\u001b[38;5;241m.\u001b[39mmean()\u001b[38;5;241m.\u001b[39mreset_index()\n",
      "File \u001b[0;32m/opt/anaconda3/envs/my-new-env/lib/python3.8/site-packages/pandas/core/frame.py:3761\u001b[0m, in \u001b[0;36mDataFrame.__getitem__\u001b[0;34m(self, key)\u001b[0m\n\u001b[1;32m   3759\u001b[0m \u001b[38;5;28;01mif\u001b[39;00m \u001b[38;5;28mself\u001b[39m\u001b[38;5;241m.\u001b[39mcolumns\u001b[38;5;241m.\u001b[39mnlevels \u001b[38;5;241m>\u001b[39m \u001b[38;5;241m1\u001b[39m:\n\u001b[1;32m   3760\u001b[0m     \u001b[38;5;28;01mreturn\u001b[39;00m \u001b[38;5;28mself\u001b[39m\u001b[38;5;241m.\u001b[39m_getitem_multilevel(key)\n\u001b[0;32m-> 3761\u001b[0m indexer \u001b[38;5;241m=\u001b[39m \u001b[38;5;28;43mself\u001b[39;49m\u001b[38;5;241;43m.\u001b[39;49m\u001b[43mcolumns\u001b[49m\u001b[38;5;241;43m.\u001b[39;49m\u001b[43mget_loc\u001b[49m\u001b[43m(\u001b[49m\u001b[43mkey\u001b[49m\u001b[43m)\u001b[49m\n\u001b[1;32m   3762\u001b[0m \u001b[38;5;28;01mif\u001b[39;00m is_integer(indexer):\n\u001b[1;32m   3763\u001b[0m     indexer \u001b[38;5;241m=\u001b[39m [indexer]\n",
      "File \u001b[0;32m/opt/anaconda3/envs/my-new-env/lib/python3.8/site-packages/pandas/core/indexes/base.py:3655\u001b[0m, in \u001b[0;36mIndex.get_loc\u001b[0;34m(self, key)\u001b[0m\n\u001b[1;32m   3653\u001b[0m     \u001b[38;5;28;01mreturn\u001b[39;00m \u001b[38;5;28mself\u001b[39m\u001b[38;5;241m.\u001b[39m_engine\u001b[38;5;241m.\u001b[39mget_loc(casted_key)\n\u001b[1;32m   3654\u001b[0m \u001b[38;5;28;01mexcept\u001b[39;00m \u001b[38;5;167;01mKeyError\u001b[39;00m \u001b[38;5;28;01mas\u001b[39;00m err:\n\u001b[0;32m-> 3655\u001b[0m     \u001b[38;5;28;01mraise\u001b[39;00m \u001b[38;5;167;01mKeyError\u001b[39;00m(key) \u001b[38;5;28;01mfrom\u001b[39;00m \u001b[38;5;21;01merr\u001b[39;00m\n\u001b[1;32m   3656\u001b[0m \u001b[38;5;28;01mexcept\u001b[39;00m \u001b[38;5;167;01mTypeError\u001b[39;00m:\n\u001b[1;32m   3657\u001b[0m     \u001b[38;5;66;03m# If we have a listlike key, _check_indexing_error will raise\u001b[39;00m\n\u001b[1;32m   3658\u001b[0m     \u001b[38;5;66;03m#  InvalidIndexError. Otherwise we fall through and re-raise\u001b[39;00m\n\u001b[1;32m   3659\u001b[0m     \u001b[38;5;66;03m#  the TypeError.\u001b[39;00m\n\u001b[1;32m   3660\u001b[0m     \u001b[38;5;28mself\u001b[39m\u001b[38;5;241m.\u001b[39m_check_indexing_error(key)\n",
      "\u001b[0;31mKeyError\u001b[0m: 'date'"
     ]
    }
   ],
   "source": [
    "# Set a Seaborn style\n",
    "sns.set(style=\"whitegrid\")\n",
    "\n",
    "# Assuming 'headlines_filtered' is the name of your dataframe\n",
    "# Convert 'date' column to datetime format if not already\n",
    "headlines_filtered['date'] = pd.to_datetime(headlines_filtered['date'])\n",
    "\n",
    "# Group by year and calculate the average bias score\n",
    "average_bias_by_year = headlines_filtered.groupby(headlines_filtered['date'].dt.year)['bias'].mean().reset_index()\n",
    "\n",
    "# Plot the average bias score for each year\n",
    "plt.figure(figsize=(12, 6))\n",
    "sns.lineplot(x='date', y='bias', data=average_bias_by_year, marker='o', color='purple', linewidth=2)\n",
    "\n",
    "# Style the plot\n",
    "plt.title('Average Bias Score Over the Years', fontsize=16)\n",
    "plt.xlabel('Year', fontsize=12)\n",
    "plt.ylabel('Average Bias Score', fontsize=12)\n",
    "plt.xticks(rotation=45, ha='right', fontsize=10)\n",
    "plt.yticks(fontsize=10)\n",
    "plt.grid(axis='y', linestyle='--', alpha=0.7)\n",
    "\n",
    "# Show the plot\n",
    "plt.tight_layout()\n",
    "plt.show()"
   ]
  },
  {
   "cell_type": "code",
   "execution_count": null,
   "id": "1429e26e",
   "metadata": {},
   "outputs": [],
   "source": []
  },
  {
   "cell_type": "code",
   "execution_count": null,
   "id": "3e96860d",
   "metadata": {},
   "outputs": [],
   "source": []
  },
  {
   "cell_type": "code",
   "execution_count": null,
   "id": "af6f3ef6",
   "metadata": {},
   "outputs": [],
   "source": []
  },
  {
   "cell_type": "code",
   "execution_count": null,
   "id": "d06b0746",
   "metadata": {},
   "outputs": [],
   "source": []
  },
  {
   "cell_type": "code",
   "execution_count": null,
   "id": "e541fe61",
   "metadata": {},
   "outputs": [],
   "source": []
  },
  {
   "cell_type": "code",
   "execution_count": null,
   "id": "5ec86a75",
   "metadata": {},
   "outputs": [],
   "source": [
    "# Assuming 'headlines' is your DataFrame\n",
    "headlines_filtered = headlines_filtered.rename(columns={'headline_no_site': 'headline'})\n",
    "\n",
    "# Get one-hot encoding for categorical columns with 1s and 0s\n",
    "headlines_filtered = pd.get_dummies(headlines_filtered, columns=['site', 'country', 'Day_of_Week', 'Month'], drop_first=True, dtype=int)"
   ]
  }
 ],
 "metadata": {
  "kernelspec": {
   "display_name": "Python 3 (ipykernel)",
   "language": "python",
   "name": "python3"
  },
  "language_info": {
   "codemirror_mode": {
    "name": "ipython",
    "version": 3
   },
   "file_extension": ".py",
   "mimetype": "text/x-python",
   "name": "python",
   "nbconvert_exporter": "python",
   "pygments_lexer": "ipython3",
   "version": "3.8.18"
  }
 },
 "nbformat": 4,
 "nbformat_minor": 5
}
