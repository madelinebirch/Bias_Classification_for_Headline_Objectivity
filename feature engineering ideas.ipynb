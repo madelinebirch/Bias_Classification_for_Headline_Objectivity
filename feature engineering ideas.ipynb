{
 "cells": [
  {
   "cell_type": "code",
   "execution_count": 1,
   "id": "ce3e62a0",
   "metadata": {},
   "outputs": [],
   "source": [
    "import pandas as pd"
   ]
  },
  {
   "cell_type": "code",
   "execution_count": 2,
   "id": "69e8018b",
   "metadata": {},
   "outputs": [],
   "source": [
    "headlines = pd.read_csv('Data/headlines.csv')"
   ]
  },
  {
   "cell_type": "code",
   "execution_count": 3,
   "id": "5807329b",
   "metadata": {},
   "outputs": [],
   "source": [
    "headlines.shape"
   ]
  },
  {
   "cell_type": "code",
   "execution_count": 4,
   "id": "4c272837",
   "metadata": {},
   "outputs": [],
   "source": [
    "headlines.head()"
   ]
  },
  {
   "cell_type": "code",
   "execution_count": 5,
   "id": "f1d8c9c8",
   "metadata": {},
   "outputs": [],
   "source": [
    "headlines.isnull().sum()"
   ]
  },
  {
   "cell_type": "code",
   "execution_count": 6,
   "id": "0b1807e2",
   "metadata": {},
   "outputs": [],
   "source": [
    "headlines.describe()"
   ]
  },
  {
   "cell_type": "code",
   "execution_count": 7,
   "id": "114f61c2",
   "metadata": {},
   "outputs": [],
   "source": [
    "headlines.drop(['Unnamed: 0', 'url', 'index'], axis=1, inplace=True)\n",
    "headlines.head()"
   ]
  },
  {
   "cell_type": "code",
   "execution_count": 8,
   "id": "15718715",
   "metadata": {},
   "outputs": [],
   "source": [
    "# Assuming 'headlines' is the name of your dataframe\n",
    "min_headlines_threshold = 5000\n",
    "top_sites = headlines['site'].value_counts()\n",
    "top_sites = top_sites[top_sites >= min_headlines_threshold].index\n",
    "\n",
    "# Create a new dataframe with only the sites with at least 5000 headlines\n",
    "headlines_filtered = headlines[headlines['site'].isin(top_sites)].copy()\n",
    "\n",
    "# Display the value counts for the new dataframe\n",
    "headlines_filtered['site'].value_counts()\n"
   ]
  },
  {
   "cell_type": "code",
   "execution_count": 9,
   "id": "238dba79",
   "metadata": {},
   "outputs": [],
   "source": [
    "headlines_filtered.head()"
   ]
  },
  {
   "cell_type": "code",
   "execution_count": 10,
   "id": "67b2f0f0",
   "metadata": {},
   "outputs": [],
   "source": [
    "headlines_filtered.shape"
   ]
  },
  {
   "cell_type": "markdown",
   "id": "3f68ed22",
   "metadata": {},
   "source": [
    "feature engineering"
   ]
  },
  {
   "cell_type": "code",
   "execution_count": 11,
   "id": "11f6ab74",
   "metadata": {},
   "outputs": [],
   "source": [
    "# Assuming 'headlines' is your DataFrame\n",
    "headlines_filtered['Word_Count'] = headlines_filtered['headline_no_site'].apply(lambda x: len(x.split()))"
   ]
  },
  {
   "cell_type": "code",
   "execution_count": null,
   "id": "9549fc80",
   "metadata": {},
   "outputs": [],
   "source": [
    "from textblob import TextBlob\n",
    "\n",
    "# Assuming 'headlines' is your DataFrame\n",
    "headlines_filtered['Sentiment_Polarity'] = headlines_filtered['headline_no_site'].apply(lambda x: TextBlob(x).sentiment.polarity)"
   ]
  },
  {
   "cell_type": "code",
   "execution_count": null,
   "id": "552c3c31",
   "metadata": {},
   "outputs": [],
   "source": [
    "headlines_filtered['Text_Length'] = headlines_filtered['headline_no_site'].apply(len)"
   ]
  },
  {
   "cell_type": "code",
   "execution_count": null,
   "id": "e2ba6a6e",
   "metadata": {},
   "outputs": [],
   "source": [
    "headlines_filtered['Avg_Word_Length'] = headlines_filtered['Text_Length'] / headlines_filtered['Word_Count']"
   ]
  },
  {
   "cell_type": "code",
   "execution_count": null,
   "id": "645d5f26",
   "metadata": {},
   "outputs": [],
   "source": [
    "import datetime"
   ]
  },
  {
   "cell_type": "code",
   "execution_count": null,
   "id": "c45f1757",
   "metadata": {},
   "outputs": [],
   "source": [
    "# Date Features\n",
    "headlines_filtered['Day_of_Week'] = pd.to_datetime(headlines_filtered['time']).dt.day_name()\n",
    "headlines_filtered['Month'] = pd.to_datetime(headlines_filtered['time']).dt.month"
   ]
  },
  {
   "cell_type": "code",
   "execution_count": null,
   "id": "552dba10",
   "metadata": {},
   "outputs": [],
   "source": [
    "# Time feature\n",
    "headlines_filtered['Hour_of_Day'] = pd.to_datetime(headlines_filtered['time']).dt.hour"
   ]
  },
  {
   "cell_type": "code",
   "execution_count": null,
   "id": "d9363e14",
   "metadata": {},
   "outputs": [],
   "source": [
    "headlines_filtered.head()"
   ]
  },
  {
   "cell_type": "code",
   "execution_count": null,
   "id": "abcb854d",
   "metadata": {},
   "outputs": [],
   "source": [
    "import matplotlib.pyplot as plt\n",
    "import seaborn as sns\n",
    "\n",
    "# Assuming 'headlines_filtered' is the name of your dataframe\n",
    "top_10_sites = headlines_filtered['site'].value_counts().nlargest(10)\n",
    "\n",
    "# Create a pie chart\n",
    "plt.figure(figsize=(8, 8))\n",
    "plt.pie(top_10_sites, labels=top_10_sites.index, autopct='%1.1f%%', colors=sns.color_palette('viridis'), startangle=90)\n",
    "plt.title('Top 10 News Sources Distribution')\n",
    "plt.tight_layout()\n",
    "\n",
    "# Show the plot\n",
    "plt.show()"
   ]
  },
  {
   "cell_type": "code",
   "execution_count": null,
   "id": "2141a1b3",
   "metadata": {},
   "outputs": [],
   "source": [
    "# Assuming 'headlines_filtered' is the name of your dataframe\n",
    "plt.figure(figsize=(8, 6))\n",
    "sns.countplot(x='country', data=headlines_filtered, palette='viridis')\n",
    "plt.title('Distribution of Countries')\n",
    "plt.xlabel('Country')\n",
    "plt.ylabel('Number of Headlines')\n",
    "plt.tight_layout()\n",
    "\n",
    "# Show the plot\n",
    "plt.show()"
   ]
  },
  {
   "cell_type": "code",
   "execution_count": null,
   "id": "81262ed3",
   "metadata": {},
   "outputs": [],
   "source": [
    "# Assuming 'time' is the feature containing datetime information\n",
    "headlines_filtered['time'] = pd.to_datetime(headlines_filtered['time'], errors='coerce')\n",
    "\n",
    "# Extract the year and create a new feature 'Publication_Year'\n",
    "headlines_filtered['Publication_Year'] = headlines_filtered['time'].dt.year"
   ]
  },
  {
   "cell_type": "code",
   "execution_count": null,
   "id": "34b5af85",
   "metadata": {},
   "outputs": [],
   "source": [
    "headlines_filtered['Publication_Year'].value_counts()"
   ]
  },
  {
   "cell_type": "code",
   "execution_count": null,
   "id": "20a1f022",
   "metadata": {},
   "outputs": [],
   "source": [
    "# Drop the 'time' column\n",
    "headlines_filtered =headlines_filtered.drop(columns=['time'])"
   ]
  },
  {
   "cell_type": "code",
   "execution_count": null,
   "id": "06cd3c38",
   "metadata": {},
   "outputs": [],
   "source": [
    "# Assuming 'headlines_filtered' is the name of your dataframe\n",
    "# Convert 'Publication_Year' column to datetime format if not already\n",
    "headlines_filtered['Publication_Year'] = pd.to_datetime(headlines_filtered['Publication_Year'], format='%Y')\n",
    "\n",
    "# Group by year and calculate the average bias score\n",
    "average_bias_by_year = headlines_filtered.groupby(headlines_filtered['Publication_Year'].dt.year)['bias'].mean().reset_index()\n",
    "\n",
    "# Set a Seaborn style\n",
    "sns.set(style=\"whitegrid\")\n",
    "\n",
    "# Plot the average bias score for each year\n",
    "plt.figure(figsize=(12, 6))\n",
    "sns.lineplot(x='Publication_Year', y='bias', data=average_bias_by_year, marker='o', color='purple', linewidth=2)\n",
    "\n",
    "# Style the plot\n",
    "plt.title('Average Bias Score Over the Years', fontsize=16)\n",
    "plt.xlabel('Publication Year', fontsize=12)\n",
    "plt.ylabel('Average Bias Score', fontsize=12)\n",
    "plt.xticks(rotation=45, ha='right', fontsize=10)\n",
    "plt.yticks(fontsize=10)\n",
    "plt.grid(axis='y', linestyle='--', alpha=0.7)\n",
    "\n",
    "# Show the plot\n",
    "plt.tight_layout()\n",
    "plt.show()\n"
   ]
  },
  {
   "cell_type": "code",
   "execution_count": null,
   "id": "4007383a",
   "metadata": {},
   "outputs": [],
   "source": [
    "# Set a Seaborn style\n",
    "sns.set(style=\"whitegrid\")\n",
    "\n",
    "# Plot a violin plot of bias scores by average word count\n",
    "plt.figure(figsize=(12, 6))\n",
    "sns.violinplot(x='Word_Count', y='bias', data=headlines_filtered, inner='quartile', palette='Blues')\n",
    "\n",
    "# Style the plot\n",
    "plt.title('Distribution of Bias Scores by Word Count', fontsize=16)\n",
    "plt.xlabel('Word Count', fontsize=12)\n",
    "plt.ylabel('Bias Score', fontsize=12)\n",
    "plt.xticks(fontsize=10)\n",
    "plt.yticks(fontsize=10)\n",
    "plt.grid(axis='both', linestyle='--', alpha=0.7)\n",
    "\n",
    "# Show the plot\n",
    "plt.tight_layout()\n",
    "plt.show()\n"
   ]
  },
  {
   "cell_type": "code",
   "execution_count": null,
   "id": "850d2bf8",
   "metadata": {},
   "outputs": [],
   "source": [
    "headlines_filtered.head()"
   ]
  },
  {
   "cell_type": "code",
   "execution_count": null,
   "id": "82579520",
   "metadata": {},
   "outputs": [],
   "source": [
    "# Set a Seaborn style\n",
    "sns.set(style=\"whitegrid\")\n",
    "\n",
    "# Plot histograms for different bias scores\n",
    "plt.figure(figsize=(12, 6))\n",
    "sns.histplot(x='Sentiment_Polarity', hue='bias', data=headlines_filtered, bins=30, multiple=\"stack\", palette='viridis', edgecolor='w')\n",
    "\n",
    "# Style the plot\n",
    "plt.title('Distribution of Sentiment Polarity for Different Bias Scores', fontsize=16)\n",
    "plt.xlabel('Sentiment Polarity', fontsize=12)\n",
    "plt.ylabel('Frequency', fontsize=12)\n",
    "plt.xticks(fontsize=10)\n",
    "plt.yticks(fontsize=10)\n",
    "plt.legend(title='Bias Score', title_fontsize='12', loc='upper right')\n",
    "plt.grid(axis='y', linestyle='--', alpha=0.7)\n",
    "\n",
    "# Show the plot\n",
    "plt.tight_layout()\n",
    "plt.show()\n"
   ]
  },
  {
   "cell_type": "code",
   "execution_count": null,
   "id": "07db3db8",
   "metadata": {},
   "outputs": [],
   "source": []
  }
 ],
 "metadata": {
  "kernelspec": {
   "display_name": "Python 3 (ipykernel)",
   "language": "python",
   "name": "python3"
  },
  "language_info": {
   "codemirror_mode": {
    "name": "ipython",
    "version": 3
   },
   "file_extension": ".py",
   "mimetype": "text/x-python",
   "name": "python",
   "nbconvert_exporter": "python",
   "pygments_lexer": "ipython3",
   "version": "3.8.18"
  }
 },
 "nbformat": 4,
 "nbformat_minor": 5
}
